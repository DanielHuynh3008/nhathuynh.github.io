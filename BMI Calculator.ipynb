{
 "cells": [
  {
   "cell_type": "code",
   "execution_count": 33,
   "metadata": {},
   "outputs": [
    {
     "name": "stdout",
     "output_type": "stream",
     "text": [
      "Hello! Welcome to BMI Calculator! What's your name? Ob\n",
      "Hello Ob! Let's calculate your BMI!\n",
      "Input your weight in pounds: 350\n",
      "Input your height in inches: 50\n",
      "Your BMI is 98.42\n",
      "You are morbidly obese, Ob!\n",
      "You should lose 262.00 pounds to reach a healthy weight\n"
     ]
    }
   ],
   "source": [
    "name = input(\"Hello! Welcome to BMI Calculator! What's your name? \")\n",
    "print(\"Hello {}! Let's calculate your BMI!\".format(name))\n",
    "\n",
    "weight = float(input(\"Input your weight in pounds: \"))\n",
    "\n",
    "height = float(input(\"Input your height in inches: \"))\n",
    "\n",
    "BMI = (weight * 703) / (height**2)\n",
    "\n",
    "print(\"Your BMI is {:.2f}\".format(BMI))\n",
    "\n",
    "# recommendations:\n",
    "under_w = int((18.5 * height**2) / 703) #if underweight\n",
    "over_w = int((25 * height**2) / 703) #if overweight\n",
    "\n",
    "if BMI > 0:\n",
    "    if BMI < 18.5:\n",
    "        print(\"You are underweight, {}!\".format(name))\n",
    "        print(\"You should gain {:.2f} pounds to reach a healthy weight\".format(under_w - weight))\n",
    "    elif BMI < 25:\n",
    "        print(\"You are normal weight, {}!\".format(name))\n",
    "        print(\"You don't need to gain weight.\")\n",
    "    elif BMI >= 25:\n",
    "        if BMI < 30:\n",
    "            print(\"You are overweight, {}!\".format(name))\n",
    "        elif BMI < 35:\n",
    "            print(\"You are obese, {}!\".format(name))\n",
    "        elif BMI < 40:\n",
    "            print(\"You are severely obese, {}!\".format(name))\n",
    "        else: \n",
    "            print(\"You are morbidly obese, {}!\".format(name))\n",
    "        print(\"You should lose {:.2f} pounds to reach a healthy weight!\".format(weight - over_w))\n",
    "else:\n",
    "    print(\"Invalid input! Please input height and weight as positive values\")\n"
   ]
  },
  {
   "cell_type": "code",
   "execution_count": null,
   "metadata": {},
   "outputs": [],
   "source": []
  },
  {
   "cell_type": "code",
   "execution_count": null,
   "metadata": {},
   "outputs": [],
   "source": []
  },
  {
   "cell_type": "code",
   "execution_count": null,
   "metadata": {},
   "outputs": [],
   "source": []
  }
 ],
 "metadata": {
  "kernelspec": {
   "display_name": "Python 3 (ipykernel)",
   "language": "python",
   "name": "python3"
  },
  "language_info": {
   "codemirror_mode": {
    "name": "ipython",
    "version": 3
   },
   "file_extension": ".py",
   "mimetype": "text/x-python",
   "name": "python",
   "nbconvert_exporter": "python",
   "pygments_lexer": "ipython3",
   "version": "3.11.5"
  }
 },
 "nbformat": 4,
 "nbformat_minor": 2
}
