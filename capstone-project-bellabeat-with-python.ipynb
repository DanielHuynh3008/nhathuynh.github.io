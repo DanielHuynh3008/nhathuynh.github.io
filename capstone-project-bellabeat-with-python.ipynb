{
 "cells": [
  {
   "cell_type": "markdown",
   "id": "0ac3cc34",
   "metadata": {
    "papermill": {
     "duration": 0.025267,
     "end_time": "2023-08-08T08:38:33.497606",
     "exception": false,
     "start_time": "2023-08-08T08:38:33.472339",
     "status": "completed"
    },
    "tags": []
   },
   "source": [
    "# CASE STUDY: BELLABEAT"
   ]
  },
  {
   "cell_type": "markdown",
   "id": "36132a9e",
   "metadata": {
    "papermill": {
     "duration": 0.02555,
     "end_time": "2023-08-08T08:38:33.547946",
     "exception": false,
     "start_time": "2023-08-08T08:38:33.522396",
     "status": "completed"
    },
    "tags": []
   },
   "source": [
    "<a id=\"Table-of-Contents\"></a>\n",
    "## TABLE OF CONTENTS\n",
    "\n",
    "[1. ABOUT THE PROJECT](#about-the-project)\n",
    "\n",
    "   [1.1. Scenario](#scenario)\n",
    "\n",
    "   [1.2. Bellabeat products](#bellabeat-products)\n",
    "\n",
    "   [1.3. Stakeholders](#stakeholders)\n",
    "   \n",
    "    \n",
    "[2. ASK PHASE](#ask-phase)\n",
    "\n",
    "   [2.1. Business Tasks](#business-tasks)\n",
    "\n",
    "   [2.2. Guiding Questions](#guiding-questions)\n",
    "    \n",
    "[3. PREPARE PHASE](#prepare-phase)\n",
    "\n",
    "\n",
    "[4. PROCESS PHASE](#process-phase)\n",
    "\n",
    "   [4.1 Load library](#load-library)\n",
    "\n",
    "   [4.2 Load data](#load-data)\n",
    "\n",
    "   [4.3 Process data](#process-data)\n",
    "   \n",
    "\n",
    "[5. ANALYSIS AND VISUALIZATION PHASE](#analysis-and-visualization-phase)\n",
    "\n",
    "   [5.1 Join data for analysis](#join-data-for-analysis)\n",
    "\n",
    "   [5.2 Explore daily data](#explore-daily-data)\n",
    "\n",
    "   [5.3 Explore hourly data](#explore-hourly-data)\n",
    "   \n",
    "\n",
    "[6. ACT PHASE](#act-phase)"
   ]
  },
  {
   "cell_type": "markdown",
   "id": "9d042075",
   "metadata": {
    "papermill": {
     "duration": 0.025159,
     "end_time": "2023-08-08T08:38:33.598233",
     "exception": false,
     "start_time": "2023-08-08T08:38:33.573074",
     "status": "completed"
    },
    "tags": []
   },
   "source": [
    "## 1. ABOUT THE PROJECT <a id=\"about-the-project\"></a>\n",
    "\n",
    "[Back to Table of Contents](#Table-of-Contents)\n",
    "\n",
    "**1.1 Scenario** <a id=\"scenario\"></a>\n",
    "\n",
    "You are a junior data analyst working on the marketing analyst team at Bellabeat, a high-tech manufacturer of health-focused products for women. Bellabeat is a successful small company, but they have the potential to become a larger player in the\n",
    "global smart device market. Urška Sršen, cofounder and Chief Creative Officer of Bellabeat, believes that analyzing smart device fitness data could help unlock new growth opportunities for the company. You have been asked to focus on one of Bellabeat’s products and analyze smart device data to gain insight into how consumers are using their smart devices. The insights you discover will then help guide marketing strategy for the company. You will present your analysis to the Bellabeat executive team along with your high-level recommendations for Bellabeat’s marketing strategy.\n",
    "\n",
    "**1.2 Bellabeat products** <a id=\"bellabeat-products\"></a>\n",
    "* Bellabeat app: The Bellabeat app provides users with health data related to their activity, sleep, stress,menstrual cycle, and mindfulness habits. This data can help users better understand their current habits and make healthy decisions. The Bellabeat app connects to their line of smart wellness products.\n",
    "* Leaf: Bellabeat’s classic wellness tracker can be worn as a bracelet, necklace, or clip. The Leaf tracker connects to the Bellabeat app to track activity, sleep, and stress.\n",
    "* Time: This wellness watch combines the timeless look of a classic timepiece with smart technology to track user activity, sleep, and stress. The Time watch connects to the Bellabeat app to provide you with insights into your daily wellness.\n",
    "* Spring: This is a water bottle that tracks daily water intake using smart technology to ensure that you are appropriately hydrated throughout the day. The Spring bottle connects to the Bellabeat app to track your hydration levels.\n",
    "* Bellabeat membership: Bellabeat also offers a subscription-based membership program for users. Membership gives users 24/7 access to fully personalized guidance on nutrition, activity, sleep, health and beauty, and mindfulness based on their lifestyle and goals.\n",
    "\n",
    "**1.3. Stakeholders** <a id=\"stakeholders\"></a>\n",
    "* Urška Sršen: Bellabeat’s cofounder and Chief Creative Officer\n",
    "* Sando Mur: Mathematician and Bellabeat’s cofounder; key member of the Bellabeat executive team\n",
    "* Bellabeat marketing analytics team: A team of data analysts responsible for collecting, analyzing, and reporting data that helps guide Bellabeat’s marketing strategy."
   ]
  },
  {
   "cell_type": "markdown",
   "id": "c0457c37",
   "metadata": {
    "papermill": {
     "duration": 0.024945,
     "end_time": "2023-08-08T08:38:33.649001",
     "exception": false,
     "start_time": "2023-08-08T08:38:33.624056",
     "status": "completed"
    },
    "tags": []
   },
   "source": [
    "## 2. ASK PHASE <a id=\"ask-phase\"></a>\n",
    "\n",
    "[Back to Table of Contents](#Table-of-Contents)\n",
    "\n",
    "**2.1 Business Tasks:** <a id=\"business-tasks\"></a>\n",
    "1. Conduct an analysis of Fitbit smart device usage data.\n",
    "2. Identify key insights and trends from the analysis that reveal consumer behaviors and preferences regarding smart device usage.\n",
    "3. Apply the insights from the smart device usage analysis to one of Bellabeat product and provide recommendations for its marketing strategy."
   ]
  },
  {
   "cell_type": "markdown",
   "id": "1f04b0ba",
   "metadata": {
    "papermill": {
     "duration": 0.025012,
     "end_time": "2023-08-08T08:38:33.699516",
     "exception": false,
     "start_time": "2023-08-08T08:38:33.674504",
     "status": "completed"
    },
    "tags": []
   },
   "source": [
    "**2.2 Guiding Questions** <a id=\"guiding-questions\"></a>\n",
    "1. How are Fitbit users using Fitbit device to track their activities?\n",
    "2. How activity affect users' sleep quality?\n",
    "3. What is the frequency of daily activities?\n",
    "4. What is the most active time? Least active time?\n",
    "5. What type of activty burns calories the most?"
   ]
  },
  {
   "cell_type": "markdown",
   "id": "63ef5cbb",
   "metadata": {
    "_kg_hide-output": true,
    "papermill": {
     "duration": 0.024434,
     "end_time": "2023-08-08T08:38:33.748958",
     "exception": false,
     "start_time": "2023-08-08T08:38:33.724524",
     "status": "completed"
    },
    "tags": []
   },
   "source": [
    "## 3. PREPARE PHASE <a id='prepare-phase'></a>\n",
    "\n",
    "[Back to Table of Contents](#Table-of-Contents)\n",
    "\n",
    "**Data used:** \n",
    "The main data used for this analysis is the FitBit Fitness Tracker Data (CC0: Public Domain, dataset made available through Mobius): This Kaggle data set contains personal fitness tracker from thirty fitbit users. Thirty eligible Fitbit users consented to the submission of personal tracker data, including minute-level output for physical activity, heart rate, and sleep monitoring. It includes information about daily activity, steps, and heart rate that can be used to explore users’ habits. These datasets were generated by respondents to a distributed survey via **Amazon Mechanical Turk** between **April 2016 to May 2016**.\n",
    "\n",
    "The data set contains aggregated data collected on three levels, daily, hourly, and minute. Each data table represents a specific area of Fitbit users including activity intensity, activity time, calories burned, weight, sleep quality, etc.\n",
    "\n",
    "Using ROCCC framework to assess credibility and bias of data\n",
    "* Reliable: This data set is not reliable as it was collected from a third party (Amazon Mechanical Turk). Beside, there are no demographic information of the survey participants, which could potentially create bias.\n",
    "* Original: This data set is not original as it was collected from a third party (Amazon Mechanical Turk), not directly from Fitbit.\n",
    "* Comprehensive: The data is fairly comprehensive as the variables are somewhat self-explanatory. However, there are insufficient information on respondents regarding personal information like location, gender, age, occupations. Moreover, the fact that there is no explanations on the true meaning of variables may create inaccuracies and bias in analysis.\n",
    "* Current: The data is not current as it was collected in 2016.\n",
    "* Cited: The data is created by Amazon Mechanical Turk, but it lacks information on how data was collected.\n",
    "\n",
    "In conclusion, this data set is **not** credible and may contain bias in analysis. Bellabeat should only view this analysis as initial insights to develop their marketing path in the future. Since Bellabeat users are female only, the analysis may contain bias. The correlations found between variables only suggest *correlations*, not *causation*.\n",
    "\n",
    "Since dataset is available on Kaggle, analysis can be done directly on Kaggle’s jupyter notebook. This analysis will based mostly on users’ daily and minute-level data, including:\n",
    "* dailyActivity_merged.csv - summary of calories and intensity\n",
    "* sleepDay_merged.csv - total time asleep daily\n",
    "* weightLogInfo_merged.csv - total weight record of users\n",
    "* hourlyCalories_merged.csv - hourly calories burned\n",
    "* hourlyIntensities_merged.csv - hourly intensity level\n",
    "* hourlySteps_merged.csv - hourly total steps"
   ]
  },
  {
   "cell_type": "markdown",
   "id": "8e910859",
   "metadata": {
    "papermill": {
     "duration": 0.024401,
     "end_time": "2023-08-08T08:38:33.797860",
     "exception": false,
     "start_time": "2023-08-08T08:38:33.773459",
     "status": "completed"
    },
    "tags": []
   },
   "source": [
    "## 4. PROCESS PHASE <a id='process-phase'></a>\n",
    "Due to the large amount of data, I will use Python for ease of manipulations and visualization. \n",
    "\n",
    "[Back to Table of Contents](#Table-of-Contents)"
   ]
  },
  {
   "cell_type": "markdown",
   "id": "9b4bacbd",
   "metadata": {
    "papermill": {
     "duration": 0.024159,
     "end_time": "2023-08-08T08:38:33.846597",
     "exception": false,
     "start_time": "2023-08-08T08:38:33.822438",
     "status": "completed"
    },
    "tags": []
   },
   "source": [
    "**4.1. Load library** <a id='load-library'></a>"
   ]
  },
  {
   "cell_type": "code",
   "execution_count": 1,
   "id": "5460dca0",
   "metadata": {
    "execution": {
     "iopub.execute_input": "2023-08-08T08:38:33.898308Z",
     "iopub.status.busy": "2023-08-08T08:38:33.897364Z",
     "iopub.status.idle": "2023-08-08T08:38:35.303411Z",
     "shell.execute_reply": "2023-08-08T08:38:35.302457Z"
    },
    "papermill": {
     "duration": 1.434745,
     "end_time": "2023-08-08T08:38:35.305894",
     "exception": false,
     "start_time": "2023-08-08T08:38:33.871149",
     "status": "completed"
    },
    "tags": []
   },
   "outputs": [
    {
     "name": "stderr",
     "output_type": "stream",
     "text": [
      "/opt/conda/lib/python3.10/site-packages/scipy/__init__.py:146: UserWarning: A NumPy version >=1.16.5 and <1.23.0 is required for this version of SciPy (detected version 1.23.5\n",
      "  warnings.warn(f\"A NumPy version >={np_minversion} and <{np_maxversion}\"\n"
     ]
    }
   ],
   "source": [
    "import pandas as pd\n",
    "import numpy as np\n",
    "import seaborn as sns\n",
    "import matplotlib.pyplot as plt"
   ]
  },
  {
   "cell_type": "markdown",
   "id": "efecc769",
   "metadata": {
    "papermill": {
     "duration": 0.024039,
     "end_time": "2023-08-08T08:38:35.355169",
     "exception": false,
     "start_time": "2023-08-08T08:38:35.331130",
     "status": "completed"
    },
    "tags": []
   },
   "source": [
    "**4.2. Load data** <a id ='load-data'></a>\n",
    "\n",
    "[Back to Table of Contents](#Table-of-Contents)"
   ]
  },
  {
   "cell_type": "code",
   "execution_count": 2,
   "id": "6f9f7504",
   "metadata": {
    "execution": {
     "iopub.execute_input": "2023-08-08T08:38:35.407524Z",
     "iopub.status.busy": "2023-08-08T08:38:35.406566Z",
     "iopub.status.idle": "2023-08-08T08:38:35.536293Z",
     "shell.execute_reply": "2023-08-08T08:38:35.535253Z"
    },
    "papermill": {
     "duration": 0.158991,
     "end_time": "2023-08-08T08:38:35.539001",
     "exception": false,
     "start_time": "2023-08-08T08:38:35.380010",
     "status": "completed"
    },
    "tags": []
   },
   "outputs": [],
   "source": [
    "activity = pd.read_csv(\"/kaggle/input/fitbit/Fitabase Data 4.12.16-5.12.16/dailyActivity_merged.csv\")\n",
    "sleep = pd.read_csv(\"/kaggle/input/fitbit/Fitabase Data 4.12.16-5.12.16/sleepDay_merged.csv\")\n",
    "weight = pd.read_csv(\"/kaggle/input/fitbit/Fitabase Data 4.12.16-5.12.16/weightLogInfo_merged.csv\")\n",
    "calories = pd.read_csv(\"/kaggle/input/fitbit/Fitabase Data 4.12.16-5.12.16/hourlyCalories_merged.csv\")\n",
    "intensity = pd.read_csv(\"/kaggle/input/fitbit/Fitabase Data 4.12.16-5.12.16/hourlyIntensities_merged.csv\")\n",
    "steps = pd.read_csv(\"/kaggle/input/fitbit/Fitabase Data 4.12.16-5.12.16/hourlySteps_merged.csv\")"
   ]
  },
  {
   "cell_type": "markdown",
   "id": "4c0136c5",
   "metadata": {
    "papermill": {
     "duration": 0.025444,
     "end_time": "2023-08-08T08:38:35.589953",
     "exception": false,
     "start_time": "2023-08-08T08:38:35.564509",
     "status": "completed"
    },
    "tags": []
   },
   "source": [
    "**4.3. Process data** <a id='process-data'></a>\n",
    "\n",
    "[Back to Table of Contents](#Table-of-Contents)"
   ]
  },
  {
   "cell_type": "markdown",
   "id": "ce2eeb63",
   "metadata": {
    "papermill": {
     "duration": 0.024636,
     "end_time": "2023-08-08T08:38:35.639474",
     "exception": false,
     "start_time": "2023-08-08T08:38:35.614838",
     "status": "completed"
    },
    "tags": []
   },
   "source": [
    "*4.3.1 activity*"
   ]
  },
  {
   "cell_type": "code",
   "execution_count": 3,
   "id": "306982c1",
   "metadata": {
    "execution": {
     "iopub.execute_input": "2023-08-08T08:38:35.691202Z",
     "iopub.status.busy": "2023-08-08T08:38:35.690814Z",
     "iopub.status.idle": "2023-08-08T08:38:35.718503Z",
     "shell.execute_reply": "2023-08-08T08:38:35.717273Z"
    },
    "papermill": {
     "duration": 0.056376,
     "end_time": "2023-08-08T08:38:35.721202",
     "exception": false,
     "start_time": "2023-08-08T08:38:35.664826",
     "status": "completed"
    },
    "tags": []
   },
   "outputs": [
    {
     "name": "stdout",
     "output_type": "stream",
     "text": [
      "<class 'pandas.core.frame.DataFrame'>\n",
      "RangeIndex: 940 entries, 0 to 939\n",
      "Data columns (total 15 columns):\n",
      " #   Column                    Non-Null Count  Dtype  \n",
      "---  ------                    --------------  -----  \n",
      " 0   Id                        940 non-null    int64  \n",
      " 1   ActivityDate              940 non-null    object \n",
      " 2   TotalSteps                940 non-null    int64  \n",
      " 3   TotalDistance             940 non-null    float64\n",
      " 4   TrackerDistance           940 non-null    float64\n",
      " 5   LoggedActivitiesDistance  940 non-null    float64\n",
      " 6   VeryActiveDistance        940 non-null    float64\n",
      " 7   ModeratelyActiveDistance  940 non-null    float64\n",
      " 8   LightActiveDistance       940 non-null    float64\n",
      " 9   SedentaryActiveDistance   940 non-null    float64\n",
      " 10  VeryActiveMinutes         940 non-null    int64  \n",
      " 11  FairlyActiveMinutes       940 non-null    int64  \n",
      " 12  LightlyActiveMinutes      940 non-null    int64  \n",
      " 13  SedentaryMinutes          940 non-null    int64  \n",
      " 14  Calories                  940 non-null    int64  \n",
      "dtypes: float64(7), int64(7), object(1)\n",
      "memory usage: 110.3+ KB\n"
     ]
    }
   ],
   "source": [
    "# Preview and check data types\n",
    "activity.head()\n",
    "activity.info()"
   ]
  },
  {
   "cell_type": "markdown",
   "id": "a91d232c",
   "metadata": {
    "papermill": {
     "duration": 0.024689,
     "end_time": "2023-08-08T08:38:35.771039",
     "exception": false,
     "start_time": "2023-08-08T08:38:35.746350",
     "status": "completed"
    },
    "tags": []
   },
   "source": [
    "* ActivityDate needs to be changed to Date type\n",
    "* Other variables are correct\n",
    "* Dataset has no NA"
   ]
  },
  {
   "cell_type": "code",
   "execution_count": 4,
   "id": "2f7ec49e",
   "metadata": {
    "execution": {
     "iopub.execute_input": "2023-08-08T08:38:35.823160Z",
     "iopub.status.busy": "2023-08-08T08:38:35.822723Z",
     "iopub.status.idle": "2023-08-08T08:38:35.831117Z",
     "shell.execute_reply": "2023-08-08T08:38:35.830312Z"
    },
    "papermill": {
     "duration": 0.036975,
     "end_time": "2023-08-08T08:38:35.833123",
     "exception": false,
     "start_time": "2023-08-08T08:38:35.796148",
     "status": "completed"
    },
    "tags": []
   },
   "outputs": [
    {
     "data": {
      "text/plain": [
       "33"
      ]
     },
     "execution_count": 4,
     "metadata": {},
     "output_type": "execute_result"
    }
   ],
   "source": [
    "# Check for unique entries\n",
    "activity['Id'].nunique()"
   ]
  },
  {
   "cell_type": "markdown",
   "id": "5a21d960",
   "metadata": {
    "papermill": {
     "duration": 0.024576,
     "end_time": "2023-08-08T08:38:35.882662",
     "exception": false,
     "start_time": "2023-08-08T08:38:35.858086",
     "status": "completed"
    },
    "tags": []
   },
   "source": [
    "* There are 33 participants, creating a total of 940 observations"
   ]
  },
  {
   "cell_type": "code",
   "execution_count": 5,
   "id": "07c2a71d",
   "metadata": {
    "execution": {
     "iopub.execute_input": "2023-08-08T08:38:35.935163Z",
     "iopub.status.busy": "2023-08-08T08:38:35.934194Z",
     "iopub.status.idle": "2023-08-08T08:38:35.996633Z",
     "shell.execute_reply": "2023-08-08T08:38:35.995491Z"
    },
    "papermill": {
     "duration": 0.09168,
     "end_time": "2023-08-08T08:38:35.999351",
     "exception": false,
     "start_time": "2023-08-08T08:38:35.907671",
     "status": "completed"
    },
    "tags": []
   },
   "outputs": [
    {
     "data": {
      "text/html": [
       "<div>\n",
       "<style scoped>\n",
       "    .dataframe tbody tr th:only-of-type {\n",
       "        vertical-align: middle;\n",
       "    }\n",
       "\n",
       "    .dataframe tbody tr th {\n",
       "        vertical-align: top;\n",
       "    }\n",
       "\n",
       "    .dataframe thead th {\n",
       "        text-align: right;\n",
       "    }\n",
       "</style>\n",
       "<table border=\"1\" class=\"dataframe\">\n",
       "  <thead>\n",
       "    <tr style=\"text-align: right;\">\n",
       "      <th></th>\n",
       "      <th>Id</th>\n",
       "      <th>TotalSteps</th>\n",
       "      <th>TotalDistance</th>\n",
       "      <th>TrackerDistance</th>\n",
       "      <th>LoggedActivitiesDistance</th>\n",
       "      <th>VeryActiveDistance</th>\n",
       "      <th>ModeratelyActiveDistance</th>\n",
       "      <th>LightActiveDistance</th>\n",
       "      <th>SedentaryActiveDistance</th>\n",
       "      <th>VeryActiveMinutes</th>\n",
       "      <th>FairlyActiveMinutes</th>\n",
       "      <th>LightlyActiveMinutes</th>\n",
       "      <th>SedentaryMinutes</th>\n",
       "      <th>Calories</th>\n",
       "    </tr>\n",
       "  </thead>\n",
       "  <tbody>\n",
       "    <tr>\n",
       "      <th>count</th>\n",
       "      <td>9.400000e+02</td>\n",
       "      <td>940.000000</td>\n",
       "      <td>940.000000</td>\n",
       "      <td>940.000000</td>\n",
       "      <td>940.000000</td>\n",
       "      <td>940.000000</td>\n",
       "      <td>940.000000</td>\n",
       "      <td>940.000000</td>\n",
       "      <td>940.000000</td>\n",
       "      <td>940.000000</td>\n",
       "      <td>940.000000</td>\n",
       "      <td>940.000000</td>\n",
       "      <td>940.000000</td>\n",
       "      <td>940.000000</td>\n",
       "    </tr>\n",
       "    <tr>\n",
       "      <th>mean</th>\n",
       "      <td>4.855407e+09</td>\n",
       "      <td>7637.910638</td>\n",
       "      <td>5.489702</td>\n",
       "      <td>5.475351</td>\n",
       "      <td>0.108171</td>\n",
       "      <td>1.502681</td>\n",
       "      <td>0.567543</td>\n",
       "      <td>3.340819</td>\n",
       "      <td>0.001606</td>\n",
       "      <td>21.164894</td>\n",
       "      <td>13.564894</td>\n",
       "      <td>192.812766</td>\n",
       "      <td>991.210638</td>\n",
       "      <td>2303.609574</td>\n",
       "    </tr>\n",
       "    <tr>\n",
       "      <th>std</th>\n",
       "      <td>2.424805e+09</td>\n",
       "      <td>5087.150742</td>\n",
       "      <td>3.924606</td>\n",
       "      <td>3.907276</td>\n",
       "      <td>0.619897</td>\n",
       "      <td>2.658941</td>\n",
       "      <td>0.883580</td>\n",
       "      <td>2.040655</td>\n",
       "      <td>0.007346</td>\n",
       "      <td>32.844803</td>\n",
       "      <td>19.987404</td>\n",
       "      <td>109.174700</td>\n",
       "      <td>301.267437</td>\n",
       "      <td>718.166862</td>\n",
       "    </tr>\n",
       "    <tr>\n",
       "      <th>min</th>\n",
       "      <td>1.503960e+09</td>\n",
       "      <td>0.000000</td>\n",
       "      <td>0.000000</td>\n",
       "      <td>0.000000</td>\n",
       "      <td>0.000000</td>\n",
       "      <td>0.000000</td>\n",
       "      <td>0.000000</td>\n",
       "      <td>0.000000</td>\n",
       "      <td>0.000000</td>\n",
       "      <td>0.000000</td>\n",
       "      <td>0.000000</td>\n",
       "      <td>0.000000</td>\n",
       "      <td>0.000000</td>\n",
       "      <td>0.000000</td>\n",
       "    </tr>\n",
       "    <tr>\n",
       "      <th>25%</th>\n",
       "      <td>2.320127e+09</td>\n",
       "      <td>3789.750000</td>\n",
       "      <td>2.620000</td>\n",
       "      <td>2.620000</td>\n",
       "      <td>0.000000</td>\n",
       "      <td>0.000000</td>\n",
       "      <td>0.000000</td>\n",
       "      <td>1.945000</td>\n",
       "      <td>0.000000</td>\n",
       "      <td>0.000000</td>\n",
       "      <td>0.000000</td>\n",
       "      <td>127.000000</td>\n",
       "      <td>729.750000</td>\n",
       "      <td>1828.500000</td>\n",
       "    </tr>\n",
       "    <tr>\n",
       "      <th>50%</th>\n",
       "      <td>4.445115e+09</td>\n",
       "      <td>7405.500000</td>\n",
       "      <td>5.245000</td>\n",
       "      <td>5.245000</td>\n",
       "      <td>0.000000</td>\n",
       "      <td>0.210000</td>\n",
       "      <td>0.240000</td>\n",
       "      <td>3.365000</td>\n",
       "      <td>0.000000</td>\n",
       "      <td>4.000000</td>\n",
       "      <td>6.000000</td>\n",
       "      <td>199.000000</td>\n",
       "      <td>1057.500000</td>\n",
       "      <td>2134.000000</td>\n",
       "    </tr>\n",
       "    <tr>\n",
       "      <th>75%</th>\n",
       "      <td>6.962181e+09</td>\n",
       "      <td>10727.000000</td>\n",
       "      <td>7.712500</td>\n",
       "      <td>7.710000</td>\n",
       "      <td>0.000000</td>\n",
       "      <td>2.052500</td>\n",
       "      <td>0.800000</td>\n",
       "      <td>4.782500</td>\n",
       "      <td>0.000000</td>\n",
       "      <td>32.000000</td>\n",
       "      <td>19.000000</td>\n",
       "      <td>264.000000</td>\n",
       "      <td>1229.500000</td>\n",
       "      <td>2793.250000</td>\n",
       "    </tr>\n",
       "    <tr>\n",
       "      <th>max</th>\n",
       "      <td>8.877689e+09</td>\n",
       "      <td>36019.000000</td>\n",
       "      <td>28.030001</td>\n",
       "      <td>28.030001</td>\n",
       "      <td>4.942142</td>\n",
       "      <td>21.920000</td>\n",
       "      <td>6.480000</td>\n",
       "      <td>10.710000</td>\n",
       "      <td>0.110000</td>\n",
       "      <td>210.000000</td>\n",
       "      <td>143.000000</td>\n",
       "      <td>518.000000</td>\n",
       "      <td>1440.000000</td>\n",
       "      <td>4900.000000</td>\n",
       "    </tr>\n",
       "  </tbody>\n",
       "</table>\n",
       "</div>"
      ],
      "text/plain": [
       "                 Id    TotalSteps  TotalDistance  TrackerDistance  \\\n",
       "count  9.400000e+02    940.000000     940.000000       940.000000   \n",
       "mean   4.855407e+09   7637.910638       5.489702         5.475351   \n",
       "std    2.424805e+09   5087.150742       3.924606         3.907276   \n",
       "min    1.503960e+09      0.000000       0.000000         0.000000   \n",
       "25%    2.320127e+09   3789.750000       2.620000         2.620000   \n",
       "50%    4.445115e+09   7405.500000       5.245000         5.245000   \n",
       "75%    6.962181e+09  10727.000000       7.712500         7.710000   \n",
       "max    8.877689e+09  36019.000000      28.030001        28.030001   \n",
       "\n",
       "       LoggedActivitiesDistance  VeryActiveDistance  ModeratelyActiveDistance  \\\n",
       "count                940.000000          940.000000                940.000000   \n",
       "mean                   0.108171            1.502681                  0.567543   \n",
       "std                    0.619897            2.658941                  0.883580   \n",
       "min                    0.000000            0.000000                  0.000000   \n",
       "25%                    0.000000            0.000000                  0.000000   \n",
       "50%                    0.000000            0.210000                  0.240000   \n",
       "75%                    0.000000            2.052500                  0.800000   \n",
       "max                    4.942142           21.920000                  6.480000   \n",
       "\n",
       "       LightActiveDistance  SedentaryActiveDistance  VeryActiveMinutes  \\\n",
       "count           940.000000               940.000000         940.000000   \n",
       "mean              3.340819                 0.001606          21.164894   \n",
       "std               2.040655                 0.007346          32.844803   \n",
       "min               0.000000                 0.000000           0.000000   \n",
       "25%               1.945000                 0.000000           0.000000   \n",
       "50%               3.365000                 0.000000           4.000000   \n",
       "75%               4.782500                 0.000000          32.000000   \n",
       "max              10.710000                 0.110000         210.000000   \n",
       "\n",
       "       FairlyActiveMinutes  LightlyActiveMinutes  SedentaryMinutes  \\\n",
       "count           940.000000            940.000000        940.000000   \n",
       "mean             13.564894            192.812766        991.210638   \n",
       "std              19.987404            109.174700        301.267437   \n",
       "min               0.000000              0.000000          0.000000   \n",
       "25%               0.000000            127.000000        729.750000   \n",
       "50%               6.000000            199.000000       1057.500000   \n",
       "75%              19.000000            264.000000       1229.500000   \n",
       "max             143.000000            518.000000       1440.000000   \n",
       "\n",
       "          Calories  \n",
       "count   940.000000  \n",
       "mean   2303.609574  \n",
       "std     718.166862  \n",
       "min       0.000000  \n",
       "25%    1828.500000  \n",
       "50%    2134.000000  \n",
       "75%    2793.250000  \n",
       "max    4900.000000  "
      ]
     },
     "execution_count": 5,
     "metadata": {},
     "output_type": "execute_result"
    }
   ],
   "source": [
    "activity.describe()"
   ]
  },
  {
   "cell_type": "markdown",
   "id": "c98420a7",
   "metadata": {
    "papermill": {
     "duration": 0.025045,
     "end_time": "2023-08-08T08:38:36.049856",
     "exception": false,
     "start_time": "2023-08-08T08:38:36.024811",
     "status": "completed"
    },
    "tags": []
   },
   "source": [
    "* Mean daily steps is 7637, can be explored further using hourly data\n",
    "* There are min values of 0 in total Steps, suggesting that participant does not move at all. This is unrealistic. However, given that this data is collected through survey, there may have been input error or mismatches in device trackings."
   ]
  },
  {
   "cell_type": "code",
   "execution_count": 6,
   "id": "5cc25647",
   "metadata": {
    "execution": {
     "iopub.execute_input": "2023-08-08T08:38:36.103025Z",
     "iopub.status.busy": "2023-08-08T08:38:36.102047Z",
     "iopub.status.idle": "2023-08-08T08:38:36.118773Z",
     "shell.execute_reply": "2023-08-08T08:38:36.117542Z"
    },
    "papermill": {
     "duration": 0.046146,
     "end_time": "2023-08-08T08:38:36.121393",
     "exception": false,
     "start_time": "2023-08-08T08:38:36.075247",
     "status": "completed"
    },
    "tags": []
   },
   "outputs": [
    {
     "name": "stdout",
     "output_type": "stream",
     "text": [
      "<class 'pandas.core.frame.DataFrame'>\n",
      "RangeIndex: 940 entries, 0 to 939\n",
      "Data columns (total 16 columns):\n",
      " #   Column                    Non-Null Count  Dtype         \n",
      "---  ------                    --------------  -----         \n",
      " 0   Id                        940 non-null    int64         \n",
      " 1   ActivityDate              940 non-null    datetime64[ns]\n",
      " 2   TotalSteps                940 non-null    int64         \n",
      " 3   TotalDistance             940 non-null    float64       \n",
      " 4   TrackerDistance           940 non-null    float64       \n",
      " 5   LoggedActivitiesDistance  940 non-null    float64       \n",
      " 6   VeryActiveDistance        940 non-null    float64       \n",
      " 7   ModeratelyActiveDistance  940 non-null    float64       \n",
      " 8   LightActiveDistance       940 non-null    float64       \n",
      " 9   SedentaryActiveDistance   940 non-null    float64       \n",
      " 10  VeryActiveMinutes         940 non-null    int64         \n",
      " 11  FairlyActiveMinutes       940 non-null    int64         \n",
      " 12  LightlyActiveMinutes      940 non-null    int64         \n",
      " 13  SedentaryMinutes          940 non-null    int64         \n",
      " 14  Calories                  940 non-null    int64         \n",
      " 15  Date                      940 non-null    object        \n",
      "dtypes: datetime64[ns](1), float64(7), int64(7), object(1)\n",
      "memory usage: 117.6+ KB\n"
     ]
    }
   ],
   "source": [
    "# Change ActivityDate to Date type and add 'Date' for inner join\n",
    "activity['ActivityDate'] = pd.to_datetime(activity['ActivityDate'])\n",
    "activity['Date'] = activity['ActivityDate'].dt.date\n",
    "activity.info()"
   ]
  },
  {
   "cell_type": "code",
   "execution_count": 7,
   "id": "6c730f3c",
   "metadata": {
    "execution": {
     "iopub.execute_input": "2023-08-08T08:38:36.174029Z",
     "iopub.status.busy": "2023-08-08T08:38:36.173601Z",
     "iopub.status.idle": "2023-08-08T08:38:36.184879Z",
     "shell.execute_reply": "2023-08-08T08:38:36.183789Z"
    },
    "papermill": {
     "duration": 0.040012,
     "end_time": "2023-08-08T08:38:36.186964",
     "exception": false,
     "start_time": "2023-08-08T08:38:36.146952",
     "status": "completed"
    },
    "tags": []
   },
   "outputs": [
    {
     "data": {
      "text/plain": [
       "0"
      ]
     },
     "execution_count": 7,
     "metadata": {},
     "output_type": "execute_result"
    }
   ],
   "source": [
    "# Check for duplicate\n",
    "activity.duplicated().sum()"
   ]
  },
  {
   "cell_type": "markdown",
   "id": "2607ef6a",
   "metadata": {
    "papermill": {
     "duration": 0.02578,
     "end_time": "2023-08-08T08:38:36.238512",
     "exception": false,
     "start_time": "2023-08-08T08:38:36.212732",
     "status": "completed"
    },
    "tags": []
   },
   "source": [
    "* Data set has no duplicates"
   ]
  },
  {
   "cell_type": "markdown",
   "id": "b18ba215",
   "metadata": {
    "papermill": {
     "duration": 0.025334,
     "end_time": "2023-08-08T08:38:36.289531",
     "exception": false,
     "start_time": "2023-08-08T08:38:36.264197",
     "status": "completed"
    },
    "tags": []
   },
   "source": [
    "*4.3.2 sleep*"
   ]
  },
  {
   "cell_type": "code",
   "execution_count": 8,
   "id": "2d391397",
   "metadata": {
    "execution": {
     "iopub.execute_input": "2023-08-08T08:38:36.343943Z",
     "iopub.status.busy": "2023-08-08T08:38:36.343317Z",
     "iopub.status.idle": "2023-08-08T08:38:36.355082Z",
     "shell.execute_reply": "2023-08-08T08:38:36.354099Z"
    },
    "papermill": {
     "duration": 0.043275,
     "end_time": "2023-08-08T08:38:36.358268",
     "exception": false,
     "start_time": "2023-08-08T08:38:36.314993",
     "status": "completed"
    },
    "tags": []
   },
   "outputs": [
    {
     "name": "stdout",
     "output_type": "stream",
     "text": [
      "<class 'pandas.core.frame.DataFrame'>\n",
      "RangeIndex: 413 entries, 0 to 412\n",
      "Data columns (total 5 columns):\n",
      " #   Column              Non-Null Count  Dtype \n",
      "---  ------              --------------  ----- \n",
      " 0   Id                  413 non-null    int64 \n",
      " 1   SleepDay            413 non-null    object\n",
      " 2   TotalSleepRecords   413 non-null    int64 \n",
      " 3   TotalMinutesAsleep  413 non-null    int64 \n",
      " 4   TotalTimeInBed      413 non-null    int64 \n",
      "dtypes: int64(4), object(1)\n",
      "memory usage: 16.3+ KB\n"
     ]
    }
   ],
   "source": [
    "# Preview and check data types\n",
    "sleep.head()\n",
    "sleep.info()"
   ]
  },
  {
   "cell_type": "markdown",
   "id": "1a294ddd",
   "metadata": {
    "papermill": {
     "duration": 0.025015,
     "end_time": "2023-08-08T08:38:36.408079",
     "exception": false,
     "start_time": "2023-08-08T08:38:36.383064",
     "status": "completed"
    },
    "tags": []
   },
   "source": [
    "* SleepDay needs to be change to Date type, and separate Date and Time"
   ]
  },
  {
   "cell_type": "code",
   "execution_count": 9,
   "id": "d7137d29",
   "metadata": {
    "execution": {
     "iopub.execute_input": "2023-08-08T08:38:36.462168Z",
     "iopub.status.busy": "2023-08-08T08:38:36.461029Z",
     "iopub.status.idle": "2023-08-08T08:38:36.481246Z",
     "shell.execute_reply": "2023-08-08T08:38:36.480127Z"
    },
    "papermill": {
     "duration": 0.049631,
     "end_time": "2023-08-08T08:38:36.483577",
     "exception": false,
     "start_time": "2023-08-08T08:38:36.433946",
     "status": "completed"
    },
    "tags": []
   },
   "outputs": [
    {
     "data": {
      "text/html": [
       "<div>\n",
       "<style scoped>\n",
       "    .dataframe tbody tr th:only-of-type {\n",
       "        vertical-align: middle;\n",
       "    }\n",
       "\n",
       "    .dataframe tbody tr th {\n",
       "        vertical-align: top;\n",
       "    }\n",
       "\n",
       "    .dataframe thead th {\n",
       "        text-align: right;\n",
       "    }\n",
       "</style>\n",
       "<table border=\"1\" class=\"dataframe\">\n",
       "  <thead>\n",
       "    <tr style=\"text-align: right;\">\n",
       "      <th></th>\n",
       "      <th>Id</th>\n",
       "      <th>SleepDay</th>\n",
       "      <th>TotalSleepRecords</th>\n",
       "      <th>TotalMinutesAsleep</th>\n",
       "      <th>TotalTimeInBed</th>\n",
       "      <th>Date</th>\n",
       "      <th>Time</th>\n",
       "    </tr>\n",
       "  </thead>\n",
       "  <tbody>\n",
       "    <tr>\n",
       "      <th>0</th>\n",
       "      <td>1503960366</td>\n",
       "      <td>2016-04-12</td>\n",
       "      <td>1</td>\n",
       "      <td>327</td>\n",
       "      <td>346</td>\n",
       "      <td>2016-04-12</td>\n",
       "      <td>00:00:00</td>\n",
       "    </tr>\n",
       "    <tr>\n",
       "      <th>1</th>\n",
       "      <td>1503960366</td>\n",
       "      <td>2016-04-13</td>\n",
       "      <td>2</td>\n",
       "      <td>384</td>\n",
       "      <td>407</td>\n",
       "      <td>2016-04-13</td>\n",
       "      <td>00:00:00</td>\n",
       "    </tr>\n",
       "    <tr>\n",
       "      <th>2</th>\n",
       "      <td>1503960366</td>\n",
       "      <td>2016-04-15</td>\n",
       "      <td>1</td>\n",
       "      <td>412</td>\n",
       "      <td>442</td>\n",
       "      <td>2016-04-15</td>\n",
       "      <td>00:00:00</td>\n",
       "    </tr>\n",
       "    <tr>\n",
       "      <th>3</th>\n",
       "      <td>1503960366</td>\n",
       "      <td>2016-04-16</td>\n",
       "      <td>2</td>\n",
       "      <td>340</td>\n",
       "      <td>367</td>\n",
       "      <td>2016-04-16</td>\n",
       "      <td>00:00:00</td>\n",
       "    </tr>\n",
       "    <tr>\n",
       "      <th>4</th>\n",
       "      <td>1503960366</td>\n",
       "      <td>2016-04-17</td>\n",
       "      <td>1</td>\n",
       "      <td>700</td>\n",
       "      <td>712</td>\n",
       "      <td>2016-04-17</td>\n",
       "      <td>00:00:00</td>\n",
       "    </tr>\n",
       "  </tbody>\n",
       "</table>\n",
       "</div>"
      ],
      "text/plain": [
       "           Id   SleepDay  TotalSleepRecords  TotalMinutesAsleep  \\\n",
       "0  1503960366 2016-04-12                  1                 327   \n",
       "1  1503960366 2016-04-13                  2                 384   \n",
       "2  1503960366 2016-04-15                  1                 412   \n",
       "3  1503960366 2016-04-16                  2                 340   \n",
       "4  1503960366 2016-04-17                  1                 700   \n",
       "\n",
       "   TotalTimeInBed        Date      Time  \n",
       "0             346  2016-04-12  00:00:00  \n",
       "1             407  2016-04-13  00:00:00  \n",
       "2             442  2016-04-15  00:00:00  \n",
       "3             367  2016-04-16  00:00:00  \n",
       "4             712  2016-04-17  00:00:00  "
      ]
     },
     "execution_count": 9,
     "metadata": {},
     "output_type": "execute_result"
    }
   ],
   "source": [
    "# Convert date and split date and time\n",
    "sleep['SleepDay'] = pd.to_datetime(sleep['SleepDay'], format = '%m/%d/%Y %I:%M:%S %p')\n",
    "sleep['Date'] = sleep['SleepDay'].dt.date\n",
    "sleep['Time'] = sleep['SleepDay'].dt.time\n",
    "sleep.head()"
   ]
  },
  {
   "cell_type": "code",
   "execution_count": 10,
   "id": "39e6a108",
   "metadata": {
    "execution": {
     "iopub.execute_input": "2023-08-08T08:38:36.538079Z",
     "iopub.status.busy": "2023-08-08T08:38:36.537279Z",
     "iopub.status.idle": "2023-08-08T08:38:36.561265Z",
     "shell.execute_reply": "2023-08-08T08:38:36.560212Z"
    },
    "papermill": {
     "duration": 0.053881,
     "end_time": "2023-08-08T08:38:36.563698",
     "exception": false,
     "start_time": "2023-08-08T08:38:36.509817",
     "status": "completed"
    },
    "tags": []
   },
   "outputs": [
    {
     "data": {
      "text/html": [
       "<div>\n",
       "<style scoped>\n",
       "    .dataframe tbody tr th:only-of-type {\n",
       "        vertical-align: middle;\n",
       "    }\n",
       "\n",
       "    .dataframe tbody tr th {\n",
       "        vertical-align: top;\n",
       "    }\n",
       "\n",
       "    .dataframe thead th {\n",
       "        text-align: right;\n",
       "    }\n",
       "</style>\n",
       "<table border=\"1\" class=\"dataframe\">\n",
       "  <thead>\n",
       "    <tr style=\"text-align: right;\">\n",
       "      <th></th>\n",
       "      <th>Id</th>\n",
       "      <th>TotalSleepRecords</th>\n",
       "      <th>TotalMinutesAsleep</th>\n",
       "      <th>TotalTimeInBed</th>\n",
       "    </tr>\n",
       "  </thead>\n",
       "  <tbody>\n",
       "    <tr>\n",
       "      <th>count</th>\n",
       "      <td>4.130000e+02</td>\n",
       "      <td>413.000000</td>\n",
       "      <td>413.000000</td>\n",
       "      <td>413.000000</td>\n",
       "    </tr>\n",
       "    <tr>\n",
       "      <th>mean</th>\n",
       "      <td>5.000979e+09</td>\n",
       "      <td>1.118644</td>\n",
       "      <td>419.467312</td>\n",
       "      <td>458.639225</td>\n",
       "    </tr>\n",
       "    <tr>\n",
       "      <th>std</th>\n",
       "      <td>2.060360e+09</td>\n",
       "      <td>0.345521</td>\n",
       "      <td>118.344679</td>\n",
       "      <td>127.101607</td>\n",
       "    </tr>\n",
       "    <tr>\n",
       "      <th>min</th>\n",
       "      <td>1.503960e+09</td>\n",
       "      <td>1.000000</td>\n",
       "      <td>58.000000</td>\n",
       "      <td>61.000000</td>\n",
       "    </tr>\n",
       "    <tr>\n",
       "      <th>25%</th>\n",
       "      <td>3.977334e+09</td>\n",
       "      <td>1.000000</td>\n",
       "      <td>361.000000</td>\n",
       "      <td>403.000000</td>\n",
       "    </tr>\n",
       "    <tr>\n",
       "      <th>50%</th>\n",
       "      <td>4.702922e+09</td>\n",
       "      <td>1.000000</td>\n",
       "      <td>433.000000</td>\n",
       "      <td>463.000000</td>\n",
       "    </tr>\n",
       "    <tr>\n",
       "      <th>75%</th>\n",
       "      <td>6.962181e+09</td>\n",
       "      <td>1.000000</td>\n",
       "      <td>490.000000</td>\n",
       "      <td>526.000000</td>\n",
       "    </tr>\n",
       "    <tr>\n",
       "      <th>max</th>\n",
       "      <td>8.792010e+09</td>\n",
       "      <td>3.000000</td>\n",
       "      <td>796.000000</td>\n",
       "      <td>961.000000</td>\n",
       "    </tr>\n",
       "  </tbody>\n",
       "</table>\n",
       "</div>"
      ],
      "text/plain": [
       "                 Id  TotalSleepRecords  TotalMinutesAsleep  TotalTimeInBed\n",
       "count  4.130000e+02         413.000000          413.000000      413.000000\n",
       "mean   5.000979e+09           1.118644          419.467312      458.639225\n",
       "std    2.060360e+09           0.345521          118.344679      127.101607\n",
       "min    1.503960e+09           1.000000           58.000000       61.000000\n",
       "25%    3.977334e+09           1.000000          361.000000      403.000000\n",
       "50%    4.702922e+09           1.000000          433.000000      463.000000\n",
       "75%    6.962181e+09           1.000000          490.000000      526.000000\n",
       "max    8.792010e+09           3.000000          796.000000      961.000000"
      ]
     },
     "execution_count": 10,
     "metadata": {},
     "output_type": "execute_result"
    }
   ],
   "source": [
    "sleep.describe()"
   ]
  },
  {
   "cell_type": "markdown",
   "id": "096eb28c",
   "metadata": {
    "papermill": {
     "duration": 0.026444,
     "end_time": "2023-08-08T08:38:36.616405",
     "exception": false,
     "start_time": "2023-08-08T08:38:36.589961",
     "status": "completed"
    },
    "tags": []
   },
   "source": [
    "* Users sleeps at least 1 time per day, and at most 3 times per day\n",
    "* Mean sleep time is 419 minutes\n",
    "* Mean time in bed is 458 minutes"
   ]
  },
  {
   "cell_type": "code",
   "execution_count": 11,
   "id": "1b31ad7d",
   "metadata": {
    "execution": {
     "iopub.execute_input": "2023-08-08T08:38:36.671005Z",
     "iopub.status.busy": "2023-08-08T08:38:36.670604Z",
     "iopub.status.idle": "2023-08-08T08:38:36.677958Z",
     "shell.execute_reply": "2023-08-08T08:38:36.676999Z"
    },
    "papermill": {
     "duration": 0.037524,
     "end_time": "2023-08-08T08:38:36.680203",
     "exception": false,
     "start_time": "2023-08-08T08:38:36.642679",
     "status": "completed"
    },
    "tags": []
   },
   "outputs": [
    {
     "data": {
      "text/plain": [
       "24"
      ]
     },
     "execution_count": 11,
     "metadata": {},
     "output_type": "execute_result"
    }
   ],
   "source": [
    "# Check for unique variables\n",
    "sleep['Id'].nunique()"
   ]
  },
  {
   "cell_type": "markdown",
   "id": "84126355",
   "metadata": {
    "papermill": {
     "duration": 0.026627,
     "end_time": "2023-08-08T08:38:36.733569",
     "exception": false,
     "start_time": "2023-08-08T08:38:36.706942",
     "status": "completed"
    },
    "tags": []
   },
   "source": [
    "* There are 24 participants"
   ]
  },
  {
   "cell_type": "code",
   "execution_count": 12,
   "id": "8166386e",
   "metadata": {
    "execution": {
     "iopub.execute_input": "2023-08-08T08:38:36.788296Z",
     "iopub.status.busy": "2023-08-08T08:38:36.787866Z",
     "iopub.status.idle": "2023-08-08T08:38:36.796715Z",
     "shell.execute_reply": "2023-08-08T08:38:36.795570Z"
    },
    "papermill": {
     "duration": 0.038903,
     "end_time": "2023-08-08T08:38:36.798957",
     "exception": false,
     "start_time": "2023-08-08T08:38:36.760054",
     "status": "completed"
    },
    "tags": []
   },
   "outputs": [
    {
     "data": {
      "text/plain": [
       "3"
      ]
     },
     "execution_count": 12,
     "metadata": {},
     "output_type": "execute_result"
    }
   ],
   "source": [
    "# Check for duplicates\n",
    "sleep.duplicated().sum()"
   ]
  },
  {
   "cell_type": "markdown",
   "id": "4634326c",
   "metadata": {
    "papermill": {
     "duration": 0.027155,
     "end_time": "2023-08-08T08:38:36.853097",
     "exception": false,
     "start_time": "2023-08-08T08:38:36.825942",
     "status": "completed"
    },
    "tags": []
   },
   "source": [
    "* The data set has 3 duplicates"
   ]
  },
  {
   "cell_type": "code",
   "execution_count": 13,
   "id": "9e56c380",
   "metadata": {
    "execution": {
     "iopub.execute_input": "2023-08-08T08:38:36.908174Z",
     "iopub.status.busy": "2023-08-08T08:38:36.907803Z",
     "iopub.status.idle": "2023-08-08T08:38:36.916042Z",
     "shell.execute_reply": "2023-08-08T08:38:36.914960Z"
    },
    "papermill": {
     "duration": 0.038613,
     "end_time": "2023-08-08T08:38:36.918057",
     "exception": false,
     "start_time": "2023-08-08T08:38:36.879444",
     "status": "completed"
    },
    "tags": []
   },
   "outputs": [],
   "source": [
    "# Remove duplicates\n",
    "sleep.drop_duplicates(inplace=True)"
   ]
  },
  {
   "cell_type": "markdown",
   "id": "4cf3ddaa",
   "metadata": {
    "papermill": {
     "duration": 0.026755,
     "end_time": "2023-08-08T08:38:36.971704",
     "exception": false,
     "start_time": "2023-08-08T08:38:36.944949",
     "status": "completed"
    },
    "tags": []
   },
   "source": [
    "*4.3.3 weight*"
   ]
  },
  {
   "cell_type": "code",
   "execution_count": 14,
   "id": "c29cfd81",
   "metadata": {
    "execution": {
     "iopub.execute_input": "2023-08-08T08:38:37.027425Z",
     "iopub.status.busy": "2023-08-08T08:38:37.027059Z",
     "iopub.status.idle": "2023-08-08T08:38:37.039794Z",
     "shell.execute_reply": "2023-08-08T08:38:37.038701Z"
    },
    "papermill": {
     "duration": 0.04358,
     "end_time": "2023-08-08T08:38:37.042155",
     "exception": false,
     "start_time": "2023-08-08T08:38:36.998575",
     "status": "completed"
    },
    "tags": []
   },
   "outputs": [
    {
     "name": "stdout",
     "output_type": "stream",
     "text": [
      "<class 'pandas.core.frame.DataFrame'>\n",
      "RangeIndex: 67 entries, 0 to 66\n",
      "Data columns (total 8 columns):\n",
      " #   Column          Non-Null Count  Dtype  \n",
      "---  ------          --------------  -----  \n",
      " 0   Id              67 non-null     int64  \n",
      " 1   Date            67 non-null     object \n",
      " 2   WeightKg        67 non-null     float64\n",
      " 3   WeightPounds    67 non-null     float64\n",
      " 4   Fat             2 non-null      float64\n",
      " 5   BMI             67 non-null     float64\n",
      " 6   IsManualReport  67 non-null     bool   \n",
      " 7   LogId           67 non-null     int64  \n",
      "dtypes: bool(1), float64(4), int64(2), object(1)\n",
      "memory usage: 3.9+ KB\n"
     ]
    }
   ],
   "source": [
    "# Preview and check data types\n",
    "weight.head()\n",
    "weight.info()"
   ]
  },
  {
   "cell_type": "markdown",
   "id": "68a85053",
   "metadata": {
    "papermill": {
     "duration": 0.02676,
     "end_time": "2023-08-08T08:38:37.095973",
     "exception": false,
     "start_time": "2023-08-08T08:38:37.069213",
     "status": "completed"
    },
    "tags": []
   },
   "source": [
    "* Data set has 65 missing values in Fat\n",
    "* Date needs to be changed to Date type"
   ]
  },
  {
   "cell_type": "code",
   "execution_count": 15,
   "id": "cc946b16",
   "metadata": {
    "execution": {
     "iopub.execute_input": "2023-08-08T08:38:37.151677Z",
     "iopub.status.busy": "2023-08-08T08:38:37.151273Z",
     "iopub.status.idle": "2023-08-08T08:38:37.158032Z",
     "shell.execute_reply": "2023-08-08T08:38:37.157027Z"
    },
    "papermill": {
     "duration": 0.037177,
     "end_time": "2023-08-08T08:38:37.160312",
     "exception": false,
     "start_time": "2023-08-08T08:38:37.123135",
     "status": "completed"
    },
    "tags": []
   },
   "outputs": [
    {
     "data": {
      "text/plain": [
       "8"
      ]
     },
     "execution_count": 15,
     "metadata": {},
     "output_type": "execute_result"
    }
   ],
   "source": [
    "# Check for unique values\n",
    "weight['Id'].nunique()"
   ]
  },
  {
   "cell_type": "markdown",
   "id": "acd8bcb0",
   "metadata": {
    "papermill": {
     "duration": 0.026622,
     "end_time": "2023-08-08T08:38:37.213805",
     "exception": false,
     "start_time": "2023-08-08T08:38:37.187183",
     "status": "completed"
    },
    "tags": []
   },
   "source": [
    "Data set only has 8 participants, which could cause sampling bias. Therefore weight should be omitted from analysis"
   ]
  },
  {
   "cell_type": "markdown",
   "id": "ab3559f0",
   "metadata": {
    "papermill": {
     "duration": 0.027079,
     "end_time": "2023-08-08T08:38:37.268783",
     "exception": false,
     "start_time": "2023-08-08T08:38:37.241704",
     "status": "completed"
    },
    "tags": []
   },
   "source": [
    "*4.3.4 calories*"
   ]
  },
  {
   "cell_type": "code",
   "execution_count": 16,
   "id": "e52c0dc2",
   "metadata": {
    "execution": {
     "iopub.execute_input": "2023-08-08T08:38:37.325299Z",
     "iopub.status.busy": "2023-08-08T08:38:37.324817Z",
     "iopub.status.idle": "2023-08-08T08:38:37.345307Z",
     "shell.execute_reply": "2023-08-08T08:38:37.343928Z"
    },
    "papermill": {
     "duration": 0.051315,
     "end_time": "2023-08-08T08:38:37.347358",
     "exception": false,
     "start_time": "2023-08-08T08:38:37.296043",
     "status": "completed"
    },
    "tags": []
   },
   "outputs": [
    {
     "name": "stdout",
     "output_type": "stream",
     "text": [
      "<class 'pandas.core.frame.DataFrame'>\n",
      "RangeIndex: 22099 entries, 0 to 22098\n",
      "Data columns (total 3 columns):\n",
      " #   Column        Non-Null Count  Dtype \n",
      "---  ------        --------------  ----- \n",
      " 0   Id            22099 non-null  int64 \n",
      " 1   ActivityHour  22099 non-null  object\n",
      " 2   Calories      22099 non-null  int64 \n",
      "dtypes: int64(2), object(1)\n",
      "memory usage: 518.1+ KB\n"
     ]
    }
   ],
   "source": [
    "# Preview and check data types\n",
    "calories.head()\n",
    "calories.info()"
   ]
  },
  {
   "cell_type": "markdown",
   "id": "5e3dcf30",
   "metadata": {
    "papermill": {
     "duration": 0.026889,
     "end_time": "2023-08-08T08:38:37.401537",
     "exception": false,
     "start_time": "2023-08-08T08:38:37.374648",
     "status": "completed"
    },
    "tags": []
   },
   "source": [
    "* Data set has no NA\n",
    "* ActivityHour needs to be changed to Date, and separate Date and Time"
   ]
  },
  {
   "cell_type": "code",
   "execution_count": 17,
   "id": "ae5822ee",
   "metadata": {
    "execution": {
     "iopub.execute_input": "2023-08-08T08:38:37.456886Z",
     "iopub.status.busy": "2023-08-08T08:38:37.456440Z",
     "iopub.status.idle": "2023-08-08T08:38:37.664099Z",
     "shell.execute_reply": "2023-08-08T08:38:37.662956Z"
    },
    "papermill": {
     "duration": 0.238655,
     "end_time": "2023-08-08T08:38:37.667287",
     "exception": false,
     "start_time": "2023-08-08T08:38:37.428632",
     "status": "completed"
    },
    "tags": []
   },
   "outputs": [
    {
     "data": {
      "text/html": [
       "<div>\n",
       "<style scoped>\n",
       "    .dataframe tbody tr th:only-of-type {\n",
       "        vertical-align: middle;\n",
       "    }\n",
       "\n",
       "    .dataframe tbody tr th {\n",
       "        vertical-align: top;\n",
       "    }\n",
       "\n",
       "    .dataframe thead th {\n",
       "        text-align: right;\n",
       "    }\n",
       "</style>\n",
       "<table border=\"1\" class=\"dataframe\">\n",
       "  <thead>\n",
       "    <tr style=\"text-align: right;\">\n",
       "      <th></th>\n",
       "      <th>Id</th>\n",
       "      <th>ActivityHour</th>\n",
       "      <th>Calories</th>\n",
       "      <th>Date</th>\n",
       "      <th>Time</th>\n",
       "    </tr>\n",
       "  </thead>\n",
       "  <tbody>\n",
       "    <tr>\n",
       "      <th>0</th>\n",
       "      <td>1503960366</td>\n",
       "      <td>2016-04-12 00:00:00</td>\n",
       "      <td>81</td>\n",
       "      <td>2016-04-12</td>\n",
       "      <td>00:00:00</td>\n",
       "    </tr>\n",
       "    <tr>\n",
       "      <th>1</th>\n",
       "      <td>1503960366</td>\n",
       "      <td>2016-04-12 01:00:00</td>\n",
       "      <td>61</td>\n",
       "      <td>2016-04-12</td>\n",
       "      <td>01:00:00</td>\n",
       "    </tr>\n",
       "    <tr>\n",
       "      <th>2</th>\n",
       "      <td>1503960366</td>\n",
       "      <td>2016-04-12 02:00:00</td>\n",
       "      <td>59</td>\n",
       "      <td>2016-04-12</td>\n",
       "      <td>02:00:00</td>\n",
       "    </tr>\n",
       "    <tr>\n",
       "      <th>3</th>\n",
       "      <td>1503960366</td>\n",
       "      <td>2016-04-12 03:00:00</td>\n",
       "      <td>47</td>\n",
       "      <td>2016-04-12</td>\n",
       "      <td>03:00:00</td>\n",
       "    </tr>\n",
       "    <tr>\n",
       "      <th>4</th>\n",
       "      <td>1503960366</td>\n",
       "      <td>2016-04-12 04:00:00</td>\n",
       "      <td>48</td>\n",
       "      <td>2016-04-12</td>\n",
       "      <td>04:00:00</td>\n",
       "    </tr>\n",
       "  </tbody>\n",
       "</table>\n",
       "</div>"
      ],
      "text/plain": [
       "           Id        ActivityHour  Calories        Date      Time\n",
       "0  1503960366 2016-04-12 00:00:00        81  2016-04-12  00:00:00\n",
       "1  1503960366 2016-04-12 01:00:00        61  2016-04-12  01:00:00\n",
       "2  1503960366 2016-04-12 02:00:00        59  2016-04-12  02:00:00\n",
       "3  1503960366 2016-04-12 03:00:00        47  2016-04-12  03:00:00\n",
       "4  1503960366 2016-04-12 04:00:00        48  2016-04-12  04:00:00"
      ]
     },
     "execution_count": 17,
     "metadata": {},
     "output_type": "execute_result"
    }
   ],
   "source": [
    "# Data type correction\n",
    "calories['ActivityHour'] = pd.to_datetime(calories['ActivityHour'], format = '%m/%d/%Y %I:%M:%S %p')\n",
    "calories['Date'] = calories['ActivityHour'].dt.date\n",
    "calories['Time'] = calories['ActivityHour'].dt.time\n",
    "calories.head()"
   ]
  },
  {
   "cell_type": "code",
   "execution_count": 18,
   "id": "c4987b55",
   "metadata": {
    "execution": {
     "iopub.execute_input": "2023-08-08T08:38:37.725614Z",
     "iopub.status.busy": "2023-08-08T08:38:37.725213Z",
     "iopub.status.idle": "2023-08-08T08:38:37.732654Z",
     "shell.execute_reply": "2023-08-08T08:38:37.731621Z"
    },
    "papermill": {
     "duration": 0.038845,
     "end_time": "2023-08-08T08:38:37.734933",
     "exception": false,
     "start_time": "2023-08-08T08:38:37.696088",
     "status": "completed"
    },
    "tags": []
   },
   "outputs": [
    {
     "data": {
      "text/plain": [
       "33"
      ]
     },
     "execution_count": 18,
     "metadata": {},
     "output_type": "execute_result"
    }
   ],
   "source": [
    "# Check for unique values\n",
    "calories['Id'].nunique()"
   ]
  },
  {
   "cell_type": "markdown",
   "id": "504c2cc1",
   "metadata": {
    "papermill": {
     "duration": 0.027404,
     "end_time": "2023-08-08T08:38:37.790247",
     "exception": false,
     "start_time": "2023-08-08T08:38:37.762843",
     "status": "completed"
    },
    "tags": []
   },
   "source": [
    "* Data set has 33 participants"
   ]
  },
  {
   "cell_type": "code",
   "execution_count": 19,
   "id": "410cee6d",
   "metadata": {
    "execution": {
     "iopub.execute_input": "2023-08-08T08:38:37.848303Z",
     "iopub.status.busy": "2023-08-08T08:38:37.847321Z",
     "iopub.status.idle": "2023-08-08T08:38:37.867723Z",
     "shell.execute_reply": "2023-08-08T08:38:37.866919Z"
    },
    "papermill": {
     "duration": 0.05159,
     "end_time": "2023-08-08T08:38:37.870040",
     "exception": false,
     "start_time": "2023-08-08T08:38:37.818450",
     "status": "completed"
    },
    "tags": []
   },
   "outputs": [
    {
     "data": {
      "text/plain": [
       "0"
      ]
     },
     "execution_count": 19,
     "metadata": {},
     "output_type": "execute_result"
    }
   ],
   "source": [
    "# Check for duplicates\n",
    "calories.duplicated().sum()"
   ]
  },
  {
   "cell_type": "markdown",
   "id": "f06a9f34",
   "metadata": {
    "papermill": {
     "duration": 0.027455,
     "end_time": "2023-08-08T08:38:37.925297",
     "exception": false,
     "start_time": "2023-08-08T08:38:37.897842",
     "status": "completed"
    },
    "tags": []
   },
   "source": [
    "* Calories has no duplicates"
   ]
  },
  {
   "cell_type": "markdown",
   "id": "afd3422f",
   "metadata": {
    "papermill": {
     "duration": 0.027513,
     "end_time": "2023-08-08T08:38:37.980812",
     "exception": false,
     "start_time": "2023-08-08T08:38:37.953299",
     "status": "completed"
    },
    "tags": []
   },
   "source": [
    "*4.3.5 intensities*"
   ]
  },
  {
   "cell_type": "code",
   "execution_count": 20,
   "id": "93db16bd",
   "metadata": {
    "execution": {
     "iopub.execute_input": "2023-08-08T08:38:38.037957Z",
     "iopub.status.busy": "2023-08-08T08:38:38.037542Z",
     "iopub.status.idle": "2023-08-08T08:38:38.057918Z",
     "shell.execute_reply": "2023-08-08T08:38:38.056653Z"
    },
    "papermill": {
     "duration": 0.051717,
     "end_time": "2023-08-08T08:38:38.060241",
     "exception": false,
     "start_time": "2023-08-08T08:38:38.008524",
     "status": "completed"
    },
    "tags": []
   },
   "outputs": [
    {
     "name": "stdout",
     "output_type": "stream",
     "text": [
      "<class 'pandas.core.frame.DataFrame'>\n",
      "RangeIndex: 22099 entries, 0 to 22098\n",
      "Data columns (total 4 columns):\n",
      " #   Column            Non-Null Count  Dtype  \n",
      "---  ------            --------------  -----  \n",
      " 0   Id                22099 non-null  int64  \n",
      " 1   ActivityHour      22099 non-null  object \n",
      " 2   TotalIntensity    22099 non-null  int64  \n",
      " 3   AverageIntensity  22099 non-null  float64\n",
      "dtypes: float64(1), int64(2), object(1)\n",
      "memory usage: 690.7+ KB\n"
     ]
    }
   ],
   "source": [
    "intensity.head()\n",
    "intensity.info()"
   ]
  },
  {
   "cell_type": "markdown",
   "id": "1f8f5bd3",
   "metadata": {
    "papermill": {
     "duration": 0.028898,
     "end_time": "2023-08-08T08:38:38.116915",
     "exception": false,
     "start_time": "2023-08-08T08:38:38.088017",
     "status": "completed"
    },
    "tags": []
   },
   "source": [
    "* Data set has no N/A\n",
    "* ActivyHour needs to be changed to date type, and separate Date and Time"
   ]
  },
  {
   "cell_type": "code",
   "execution_count": 21,
   "id": "a6248524",
   "metadata": {
    "execution": {
     "iopub.execute_input": "2023-08-08T08:38:38.174004Z",
     "iopub.status.busy": "2023-08-08T08:38:38.173607Z",
     "iopub.status.idle": "2023-08-08T08:38:38.383705Z",
     "shell.execute_reply": "2023-08-08T08:38:38.382801Z"
    },
    "papermill": {
     "duration": 0.241607,
     "end_time": "2023-08-08T08:38:38.386297",
     "exception": false,
     "start_time": "2023-08-08T08:38:38.144690",
     "status": "completed"
    },
    "tags": []
   },
   "outputs": [
    {
     "data": {
      "text/html": [
       "<div>\n",
       "<style scoped>\n",
       "    .dataframe tbody tr th:only-of-type {\n",
       "        vertical-align: middle;\n",
       "    }\n",
       "\n",
       "    .dataframe tbody tr th {\n",
       "        vertical-align: top;\n",
       "    }\n",
       "\n",
       "    .dataframe thead th {\n",
       "        text-align: right;\n",
       "    }\n",
       "</style>\n",
       "<table border=\"1\" class=\"dataframe\">\n",
       "  <thead>\n",
       "    <tr style=\"text-align: right;\">\n",
       "      <th></th>\n",
       "      <th>Id</th>\n",
       "      <th>ActivityHour</th>\n",
       "      <th>TotalIntensity</th>\n",
       "      <th>AverageIntensity</th>\n",
       "      <th>Date</th>\n",
       "      <th>Time</th>\n",
       "    </tr>\n",
       "  </thead>\n",
       "  <tbody>\n",
       "    <tr>\n",
       "      <th>0</th>\n",
       "      <td>1503960366</td>\n",
       "      <td>2016-04-12 00:00:00</td>\n",
       "      <td>20</td>\n",
       "      <td>0.333333</td>\n",
       "      <td>2016-04-12</td>\n",
       "      <td>00:00:00</td>\n",
       "    </tr>\n",
       "    <tr>\n",
       "      <th>1</th>\n",
       "      <td>1503960366</td>\n",
       "      <td>2016-04-12 01:00:00</td>\n",
       "      <td>8</td>\n",
       "      <td>0.133333</td>\n",
       "      <td>2016-04-12</td>\n",
       "      <td>01:00:00</td>\n",
       "    </tr>\n",
       "    <tr>\n",
       "      <th>2</th>\n",
       "      <td>1503960366</td>\n",
       "      <td>2016-04-12 02:00:00</td>\n",
       "      <td>7</td>\n",
       "      <td>0.116667</td>\n",
       "      <td>2016-04-12</td>\n",
       "      <td>02:00:00</td>\n",
       "    </tr>\n",
       "    <tr>\n",
       "      <th>3</th>\n",
       "      <td>1503960366</td>\n",
       "      <td>2016-04-12 03:00:00</td>\n",
       "      <td>0</td>\n",
       "      <td>0.000000</td>\n",
       "      <td>2016-04-12</td>\n",
       "      <td>03:00:00</td>\n",
       "    </tr>\n",
       "    <tr>\n",
       "      <th>4</th>\n",
       "      <td>1503960366</td>\n",
       "      <td>2016-04-12 04:00:00</td>\n",
       "      <td>0</td>\n",
       "      <td>0.000000</td>\n",
       "      <td>2016-04-12</td>\n",
       "      <td>04:00:00</td>\n",
       "    </tr>\n",
       "  </tbody>\n",
       "</table>\n",
       "</div>"
      ],
      "text/plain": [
       "           Id        ActivityHour  TotalIntensity  AverageIntensity  \\\n",
       "0  1503960366 2016-04-12 00:00:00              20          0.333333   \n",
       "1  1503960366 2016-04-12 01:00:00               8          0.133333   \n",
       "2  1503960366 2016-04-12 02:00:00               7          0.116667   \n",
       "3  1503960366 2016-04-12 03:00:00               0          0.000000   \n",
       "4  1503960366 2016-04-12 04:00:00               0          0.000000   \n",
       "\n",
       "         Date      Time  \n",
       "0  2016-04-12  00:00:00  \n",
       "1  2016-04-12  01:00:00  \n",
       "2  2016-04-12  02:00:00  \n",
       "3  2016-04-12  03:00:00  \n",
       "4  2016-04-12  04:00:00  "
      ]
     },
     "execution_count": 21,
     "metadata": {},
     "output_type": "execute_result"
    }
   ],
   "source": [
    "# Data type correction\n",
    "intensity['ActivityHour'] = pd.to_datetime(intensity['ActivityHour'], format = '%m/%d/%Y %I:%M:%S %p')\n",
    "intensity['Date'] = intensity['ActivityHour'].dt.date\n",
    "intensity['Time'] = intensity['ActivityHour'].dt.time\n",
    "intensity.head()"
   ]
  },
  {
   "cell_type": "code",
   "execution_count": 22,
   "id": "513b6c5f",
   "metadata": {
    "execution": {
     "iopub.execute_input": "2023-08-08T08:38:38.444028Z",
     "iopub.status.busy": "2023-08-08T08:38:38.443641Z",
     "iopub.status.idle": "2023-08-08T08:38:38.450606Z",
     "shell.execute_reply": "2023-08-08T08:38:38.449664Z"
    },
    "papermill": {
     "duration": 0.03836,
     "end_time": "2023-08-08T08:38:38.452716",
     "exception": false,
     "start_time": "2023-08-08T08:38:38.414356",
     "status": "completed"
    },
    "tags": []
   },
   "outputs": [
    {
     "data": {
      "text/plain": [
       "33"
      ]
     },
     "execution_count": 22,
     "metadata": {},
     "output_type": "execute_result"
    }
   ],
   "source": [
    "# Check for unique values\n",
    "intensity['Id'].nunique()"
   ]
  },
  {
   "cell_type": "markdown",
   "id": "80158cd0",
   "metadata": {
    "papermill": {
     "duration": 0.028202,
     "end_time": "2023-08-08T08:38:38.509167",
     "exception": false,
     "start_time": "2023-08-08T08:38:38.480965",
     "status": "completed"
    },
    "tags": []
   },
   "source": [
    "* Data set has 33 participants"
   ]
  },
  {
   "cell_type": "code",
   "execution_count": 23,
   "id": "c4b10e5b",
   "metadata": {
    "execution": {
     "iopub.execute_input": "2023-08-08T08:38:38.568941Z",
     "iopub.status.busy": "2023-08-08T08:38:38.568491Z",
     "iopub.status.idle": "2023-08-08T08:38:38.589081Z",
     "shell.execute_reply": "2023-08-08T08:38:38.588105Z"
    },
    "papermill": {
     "duration": 0.053193,
     "end_time": "2023-08-08T08:38:38.591317",
     "exception": false,
     "start_time": "2023-08-08T08:38:38.538124",
     "status": "completed"
    },
    "tags": []
   },
   "outputs": [
    {
     "data": {
      "text/plain": [
       "0"
      ]
     },
     "execution_count": 23,
     "metadata": {},
     "output_type": "execute_result"
    }
   ],
   "source": [
    "# Check for duplicates\n",
    "intensity.duplicated().sum()"
   ]
  },
  {
   "cell_type": "markdown",
   "id": "e9d315ac",
   "metadata": {
    "papermill": {
     "duration": 0.028383,
     "end_time": "2023-08-08T08:38:38.648318",
     "exception": false,
     "start_time": "2023-08-08T08:38:38.619935",
     "status": "completed"
    },
    "tags": []
   },
   "source": [
    "* Data set has no duplicates"
   ]
  },
  {
   "cell_type": "markdown",
   "id": "010ce60d",
   "metadata": {
    "papermill": {
     "duration": 0.028319,
     "end_time": "2023-08-08T08:38:38.705934",
     "exception": false,
     "start_time": "2023-08-08T08:38:38.677615",
     "status": "completed"
    },
    "tags": []
   },
   "source": [
    "*4.3.6 steps*"
   ]
  },
  {
   "cell_type": "code",
   "execution_count": 24,
   "id": "6691dce4",
   "metadata": {
    "execution": {
     "iopub.execute_input": "2023-08-08T08:38:38.765466Z",
     "iopub.status.busy": "2023-08-08T08:38:38.764724Z",
     "iopub.status.idle": "2023-08-08T08:38:38.784161Z",
     "shell.execute_reply": "2023-08-08T08:38:38.782698Z"
    },
    "papermill": {
     "duration": 0.05209,
     "end_time": "2023-08-08T08:38:38.786601",
     "exception": false,
     "start_time": "2023-08-08T08:38:38.734511",
     "status": "completed"
    },
    "tags": []
   },
   "outputs": [
    {
     "name": "stdout",
     "output_type": "stream",
     "text": [
      "<class 'pandas.core.frame.DataFrame'>\n",
      "RangeIndex: 22099 entries, 0 to 22098\n",
      "Data columns (total 3 columns):\n",
      " #   Column        Non-Null Count  Dtype \n",
      "---  ------        --------------  ----- \n",
      " 0   Id            22099 non-null  int64 \n",
      " 1   ActivityHour  22099 non-null  object\n",
      " 2   StepTotal     22099 non-null  int64 \n",
      "dtypes: int64(2), object(1)\n",
      "memory usage: 518.1+ KB\n"
     ]
    }
   ],
   "source": [
    "# Preview and check data types\n",
    "steps.head()\n",
    "steps.info()"
   ]
  },
  {
   "cell_type": "markdown",
   "id": "718bb379",
   "metadata": {
    "papermill": {
     "duration": 0.028421,
     "end_time": "2023-08-08T08:38:38.843790",
     "exception": false,
     "start_time": "2023-08-08T08:38:38.815369",
     "status": "completed"
    },
    "tags": []
   },
   "source": [
    "* ActivityHour needs to be changed to Date type, and separate Date and Time"
   ]
  },
  {
   "cell_type": "code",
   "execution_count": 25,
   "id": "beb647a5",
   "metadata": {
    "execution": {
     "iopub.execute_input": "2023-08-08T08:38:38.902835Z",
     "iopub.status.busy": "2023-08-08T08:38:38.902393Z",
     "iopub.status.idle": "2023-08-08T08:38:39.111454Z",
     "shell.execute_reply": "2023-08-08T08:38:39.110449Z"
    },
    "papermill": {
     "duration": 0.241205,
     "end_time": "2023-08-08T08:38:39.113655",
     "exception": false,
     "start_time": "2023-08-08T08:38:38.872450",
     "status": "completed"
    },
    "tags": []
   },
   "outputs": [
    {
     "data": {
      "text/html": [
       "<div>\n",
       "<style scoped>\n",
       "    .dataframe tbody tr th:only-of-type {\n",
       "        vertical-align: middle;\n",
       "    }\n",
       "\n",
       "    .dataframe tbody tr th {\n",
       "        vertical-align: top;\n",
       "    }\n",
       "\n",
       "    .dataframe thead th {\n",
       "        text-align: right;\n",
       "    }\n",
       "</style>\n",
       "<table border=\"1\" class=\"dataframe\">\n",
       "  <thead>\n",
       "    <tr style=\"text-align: right;\">\n",
       "      <th></th>\n",
       "      <th>Id</th>\n",
       "      <th>ActivityHour</th>\n",
       "      <th>StepTotal</th>\n",
       "      <th>Date</th>\n",
       "      <th>Time</th>\n",
       "    </tr>\n",
       "  </thead>\n",
       "  <tbody>\n",
       "    <tr>\n",
       "      <th>0</th>\n",
       "      <td>1503960366</td>\n",
       "      <td>2016-04-12 00:00:00</td>\n",
       "      <td>373</td>\n",
       "      <td>2016-04-12</td>\n",
       "      <td>00:00:00</td>\n",
       "    </tr>\n",
       "    <tr>\n",
       "      <th>1</th>\n",
       "      <td>1503960366</td>\n",
       "      <td>2016-04-12 01:00:00</td>\n",
       "      <td>160</td>\n",
       "      <td>2016-04-12</td>\n",
       "      <td>01:00:00</td>\n",
       "    </tr>\n",
       "    <tr>\n",
       "      <th>2</th>\n",
       "      <td>1503960366</td>\n",
       "      <td>2016-04-12 02:00:00</td>\n",
       "      <td>151</td>\n",
       "      <td>2016-04-12</td>\n",
       "      <td>02:00:00</td>\n",
       "    </tr>\n",
       "    <tr>\n",
       "      <th>3</th>\n",
       "      <td>1503960366</td>\n",
       "      <td>2016-04-12 03:00:00</td>\n",
       "      <td>0</td>\n",
       "      <td>2016-04-12</td>\n",
       "      <td>03:00:00</td>\n",
       "    </tr>\n",
       "    <tr>\n",
       "      <th>4</th>\n",
       "      <td>1503960366</td>\n",
       "      <td>2016-04-12 04:00:00</td>\n",
       "      <td>0</td>\n",
       "      <td>2016-04-12</td>\n",
       "      <td>04:00:00</td>\n",
       "    </tr>\n",
       "  </tbody>\n",
       "</table>\n",
       "</div>"
      ],
      "text/plain": [
       "           Id        ActivityHour  StepTotal        Date      Time\n",
       "0  1503960366 2016-04-12 00:00:00        373  2016-04-12  00:00:00\n",
       "1  1503960366 2016-04-12 01:00:00        160  2016-04-12  01:00:00\n",
       "2  1503960366 2016-04-12 02:00:00        151  2016-04-12  02:00:00\n",
       "3  1503960366 2016-04-12 03:00:00          0  2016-04-12  03:00:00\n",
       "4  1503960366 2016-04-12 04:00:00          0  2016-04-12  04:00:00"
      ]
     },
     "execution_count": 25,
     "metadata": {},
     "output_type": "execute_result"
    }
   ],
   "source": [
    "# Data type correction\n",
    "steps['ActivityHour'] = pd.to_datetime(steps['ActivityHour'], format = '%m/%d/%Y %I:%M:%S %p')\n",
    "steps['Date'] = steps['ActivityHour'].dt.date\n",
    "steps['Time'] = steps['ActivityHour'].dt.time\n",
    "steps.head()"
   ]
  },
  {
   "cell_type": "code",
   "execution_count": 26,
   "id": "c9e78c62",
   "metadata": {
    "execution": {
     "iopub.execute_input": "2023-08-08T08:38:39.173957Z",
     "iopub.status.busy": "2023-08-08T08:38:39.172913Z",
     "iopub.status.idle": "2023-08-08T08:38:39.180338Z",
     "shell.execute_reply": "2023-08-08T08:38:39.179435Z"
    },
    "papermill": {
     "duration": 0.039565,
     "end_time": "2023-08-08T08:38:39.182424",
     "exception": false,
     "start_time": "2023-08-08T08:38:39.142859",
     "status": "completed"
    },
    "tags": []
   },
   "outputs": [
    {
     "data": {
      "text/plain": [
       "33"
      ]
     },
     "execution_count": 26,
     "metadata": {},
     "output_type": "execute_result"
    }
   ],
   "source": [
    "# Check for unique values\n",
    "steps['Id'].nunique()"
   ]
  },
  {
   "cell_type": "markdown",
   "id": "e8e93ba5",
   "metadata": {
    "papermill": {
     "duration": 0.028965,
     "end_time": "2023-08-08T08:38:39.240393",
     "exception": false,
     "start_time": "2023-08-08T08:38:39.211428",
     "status": "completed"
    },
    "tags": []
   },
   "source": [
    "* Data set has 33 participants"
   ]
  },
  {
   "cell_type": "code",
   "execution_count": 27,
   "id": "2e20d0c3",
   "metadata": {
    "execution": {
     "iopub.execute_input": "2023-08-08T08:38:39.302011Z",
     "iopub.status.busy": "2023-08-08T08:38:39.300881Z",
     "iopub.status.idle": "2023-08-08T08:38:39.321976Z",
     "shell.execute_reply": "2023-08-08T08:38:39.321025Z"
    },
    "papermill": {
     "duration": 0.054061,
     "end_time": "2023-08-08T08:38:39.324155",
     "exception": false,
     "start_time": "2023-08-08T08:38:39.270094",
     "status": "completed"
    },
    "tags": []
   },
   "outputs": [
    {
     "data": {
      "text/plain": [
       "0"
      ]
     },
     "execution_count": 27,
     "metadata": {},
     "output_type": "execute_result"
    }
   ],
   "source": [
    "# Check for duplicates\n",
    "steps.duplicated().sum()"
   ]
  },
  {
   "cell_type": "markdown",
   "id": "0f6e5741",
   "metadata": {
    "papermill": {
     "duration": 0.029033,
     "end_time": "2023-08-08T08:38:39.384645",
     "exception": false,
     "start_time": "2023-08-08T08:38:39.355612",
     "status": "completed"
    },
    "tags": []
   },
   "source": [
    "* Data set has no duplicates"
   ]
  },
  {
   "cell_type": "markdown",
   "id": "8a04f2a4",
   "metadata": {
    "papermill": {
     "duration": 0.029425,
     "end_time": "2023-08-08T08:38:39.443385",
     "exception": false,
     "start_time": "2023-08-08T08:38:39.413960",
     "status": "completed"
    },
    "tags": []
   },
   "source": [
    "**Conclustions after initial preparation**\n",
    "\n",
    "* weight has too small sample size, hence should be omitted from analysis\n",
    "* sleep only has 24 participants, all other data sets have 33 parcipants\n",
    "* all hourly data has the same amount of participants and data collected, therefore can be aggregated into 1 table\n",
    "* Although sleep and activity have mismatch in number of participants, they can also be inner joined for further explorations."
   ]
  },
  {
   "cell_type": "markdown",
   "id": "184908a9",
   "metadata": {
    "papermill": {
     "duration": 0.029776,
     "end_time": "2023-08-08T08:38:39.502256",
     "exception": false,
     "start_time": "2023-08-08T08:38:39.472480",
     "status": "completed"
    },
    "tags": []
   },
   "source": [
    "## 5. ANALYSIS AND VISUALIZATION PHASE <a id='analysis-and-visualization-phase'></a>\n",
    "\n",
    "[Back to Table of Contents](#Table-of-Contents)"
   ]
  },
  {
   "cell_type": "markdown",
   "id": "8d958832",
   "metadata": {
    "papermill": {
     "duration": 0.030817,
     "end_time": "2023-08-08T08:38:39.562348",
     "exception": false,
     "start_time": "2023-08-08T08:38:39.531531",
     "status": "completed"
    },
    "tags": []
   },
   "source": [
    "Now that data are cleaned and error-proofed. I can analyze trends and insights through daily data and hourly data. However, before analysis, daily and hourly data need to be joined."
   ]
  },
  {
   "cell_type": "markdown",
   "id": "4b1d2983",
   "metadata": {
    "papermill": {
     "duration": 0.029218,
     "end_time": "2023-08-08T08:38:39.621697",
     "exception": false,
     "start_time": "2023-08-08T08:38:39.592479",
     "status": "completed"
    },
    "tags": []
   },
   "source": [
    "**5.1. Join data for analysis** <a id='join-data-for-analysis'></a>"
   ]
  },
  {
   "cell_type": "code",
   "execution_count": 28,
   "id": "ba40b5c6",
   "metadata": {
    "execution": {
     "iopub.execute_input": "2023-08-08T08:38:39.682849Z",
     "iopub.status.busy": "2023-08-08T08:38:39.682121Z",
     "iopub.status.idle": "2023-08-08T08:38:39.777366Z",
     "shell.execute_reply": "2023-08-08T08:38:39.776205Z"
    },
    "papermill": {
     "duration": 0.129117,
     "end_time": "2023-08-08T08:38:39.780155",
     "exception": false,
     "start_time": "2023-08-08T08:38:39.651038",
     "status": "completed"
    },
    "tags": []
   },
   "outputs": [
    {
     "name": "stdout",
     "output_type": "stream",
     "text": [
      "<class 'pandas.core.frame.DataFrame'>\n",
      "Int64Index: 22099 entries, 0 to 22098\n",
      "Data columns (total 8 columns):\n",
      " #   Column            Non-Null Count  Dtype         \n",
      "---  ------            --------------  -----         \n",
      " 0   Id                22099 non-null  int64         \n",
      " 1   ActivityHour      22099 non-null  datetime64[ns]\n",
      " 2   Calories          22099 non-null  int64         \n",
      " 3   Date              22099 non-null  object        \n",
      " 4   Time              22099 non-null  object        \n",
      " 5   TotalIntensity    22099 non-null  int64         \n",
      " 6   AverageIntensity  22099 non-null  float64       \n",
      " 7   StepTotal         22099 non-null  int64         \n",
      "dtypes: datetime64[ns](1), float64(1), int64(4), object(2)\n",
      "memory usage: 1.5+ MB\n"
     ]
    }
   ],
   "source": [
    "# Inner join hourly data set for analysis\n",
    "hourly_df = pd.merge(calories, intensity, on = ['Id', 'ActivityHour', 'Date', 'Time'], how = 'inner')\n",
    "hourly_df = pd.merge(hourly_df, steps, on = ['Id', 'ActivityHour', 'Date', 'Time'], how = 'inner')\n",
    "hourly_df.head()\n",
    "hourly_df.info()"
   ]
  },
  {
   "cell_type": "code",
   "execution_count": 29,
   "id": "5fc04e47",
   "metadata": {
    "execution": {
     "iopub.execute_input": "2023-08-08T08:38:39.843186Z",
     "iopub.status.busy": "2023-08-08T08:38:39.842771Z",
     "iopub.status.idle": "2023-08-08T08:38:39.864223Z",
     "shell.execute_reply": "2023-08-08T08:38:39.862798Z"
    },
    "papermill": {
     "duration": 0.055821,
     "end_time": "2023-08-08T08:38:39.866465",
     "exception": false,
     "start_time": "2023-08-08T08:38:39.810644",
     "status": "completed"
    },
    "tags": []
   },
   "outputs": [
    {
     "name": "stdout",
     "output_type": "stream",
     "text": [
      "<class 'pandas.core.frame.DataFrame'>\n",
      "Int64Index: 410 entries, 0 to 409\n",
      "Data columns (total 21 columns):\n",
      " #   Column                    Non-Null Count  Dtype         \n",
      "---  ------                    --------------  -----         \n",
      " 0   Id                        410 non-null    int64         \n",
      " 1   ActivityDate              410 non-null    datetime64[ns]\n",
      " 2   TotalSteps                410 non-null    int64         \n",
      " 3   TotalDistance             410 non-null    float64       \n",
      " 4   TrackerDistance           410 non-null    float64       \n",
      " 5   LoggedActivitiesDistance  410 non-null    float64       \n",
      " 6   VeryActiveDistance        410 non-null    float64       \n",
      " 7   ModeratelyActiveDistance  410 non-null    float64       \n",
      " 8   LightActiveDistance       410 non-null    float64       \n",
      " 9   SedentaryActiveDistance   410 non-null    float64       \n",
      " 10  VeryActiveMinutes         410 non-null    int64         \n",
      " 11  FairlyActiveMinutes       410 non-null    int64         \n",
      " 12  LightlyActiveMinutes      410 non-null    int64         \n",
      " 13  SedentaryMinutes          410 non-null    int64         \n",
      " 14  Calories                  410 non-null    int64         \n",
      " 15  Date                      410 non-null    object        \n",
      " 16  SleepDay                  410 non-null    datetime64[ns]\n",
      " 17  TotalSleepRecords         410 non-null    int64         \n",
      " 18  TotalMinutesAsleep        410 non-null    int64         \n",
      " 19  TotalTimeInBed            410 non-null    int64         \n",
      " 20  Time                      410 non-null    object        \n",
      "dtypes: datetime64[ns](2), float64(7), int64(10), object(2)\n",
      "memory usage: 70.5+ KB\n"
     ]
    }
   ],
   "source": [
    "# Inner join daily data\n",
    "daily_df = pd.merge(activity, sleep, on = ['Id', 'Date'], how = 'inner')\n",
    "daily_df.head()\n",
    "daily_df.info()"
   ]
  },
  {
   "cell_type": "markdown",
   "id": "4edf7c7c",
   "metadata": {
    "papermill": {
     "duration": 0.02941,
     "end_time": "2023-08-08T08:38:39.925934",
     "exception": false,
     "start_time": "2023-08-08T08:38:39.896524",
     "status": "completed"
    },
    "tags": []
   },
   "source": [
    "**5.2. Explore daily data** <a id='explore-daily-data'></a>\n",
    "\n",
    "[Back to Table of Contents](#Table-of-Contents)\n",
    "\n",
    "Assumption: According to Fitbit's definition, each active minute equals [10 minutes or more of continuous moderate-to-intense activity](https://help.fitbit.com/articles/en_US/Help_article/1379.htm). [LightlyActiveMinutes](https://www.verywellfit.com/why-active-minutes-mean-more-than-steps-4155747) represent lightly intensity activities such as daily walk. [FairlyActiveMinutes](https://www.verywellfit.com/why-active-minutes-mean-more-than-steps-4155747) represents moderate-intensity activities. [VeryActiveMinutes](https://www.verywellfit.com/why-active-minutes-mean-more-than-steps-4155747) indicate vigorous-intensity exercise. Therefore, we can assume that the sum of *FairlyActiveMinutes* and *VeryActiveMinutes* represents total exercise time of users, represented by \"*TotalExerciseMinutes*\"."
   ]
  },
  {
   "cell_type": "code",
   "execution_count": 30,
   "id": "1d3b62bf",
   "metadata": {
    "execution": {
     "iopub.execute_input": "2023-08-08T08:38:39.987482Z",
     "iopub.status.busy": "2023-08-08T08:38:39.987043Z",
     "iopub.status.idle": "2023-08-08T08:38:40.016947Z",
     "shell.execute_reply": "2023-08-08T08:38:40.015689Z"
    },
    "papermill": {
     "duration": 0.063691,
     "end_time": "2023-08-08T08:38:40.019397",
     "exception": false,
     "start_time": "2023-08-08T08:38:39.955706",
     "status": "completed"
    },
    "tags": []
   },
   "outputs": [
    {
     "data": {
      "text/html": [
       "<div>\n",
       "<style scoped>\n",
       "    .dataframe tbody tr th:only-of-type {\n",
       "        vertical-align: middle;\n",
       "    }\n",
       "\n",
       "    .dataframe tbody tr th {\n",
       "        vertical-align: top;\n",
       "    }\n",
       "\n",
       "    .dataframe thead th {\n",
       "        text-align: right;\n",
       "    }\n",
       "</style>\n",
       "<table border=\"1\" class=\"dataframe\">\n",
       "  <thead>\n",
       "    <tr style=\"text-align: right;\">\n",
       "      <th></th>\n",
       "      <th>Id</th>\n",
       "      <th>ActivityDate</th>\n",
       "      <th>TotalSteps</th>\n",
       "      <th>TotalDistance</th>\n",
       "      <th>TrackerDistance</th>\n",
       "      <th>LoggedActivitiesDistance</th>\n",
       "      <th>VeryActiveDistance</th>\n",
       "      <th>ModeratelyActiveDistance</th>\n",
       "      <th>LightActiveDistance</th>\n",
       "      <th>SedentaryActiveDistance</th>\n",
       "      <th>...</th>\n",
       "      <th>SedentaryMinutes</th>\n",
       "      <th>Calories</th>\n",
       "      <th>Date</th>\n",
       "      <th>SleepDay</th>\n",
       "      <th>TotalSleepRecords</th>\n",
       "      <th>TotalMinutesAsleep</th>\n",
       "      <th>TotalTimeInBed</th>\n",
       "      <th>Time</th>\n",
       "      <th>TotalExerciseMinutes</th>\n",
       "      <th>TotalActiveMinutes</th>\n",
       "    </tr>\n",
       "  </thead>\n",
       "  <tbody>\n",
       "    <tr>\n",
       "      <th>0</th>\n",
       "      <td>1503960366</td>\n",
       "      <td>2016-04-12</td>\n",
       "      <td>13162</td>\n",
       "      <td>8.50</td>\n",
       "      <td>8.50</td>\n",
       "      <td>0.0</td>\n",
       "      <td>1.88</td>\n",
       "      <td>0.55</td>\n",
       "      <td>6.06</td>\n",
       "      <td>0.0</td>\n",
       "      <td>...</td>\n",
       "      <td>728</td>\n",
       "      <td>1985</td>\n",
       "      <td>2016-04-12</td>\n",
       "      <td>2016-04-12</td>\n",
       "      <td>1</td>\n",
       "      <td>327</td>\n",
       "      <td>346</td>\n",
       "      <td>00:00:00</td>\n",
       "      <td>38</td>\n",
       "      <td>366</td>\n",
       "    </tr>\n",
       "    <tr>\n",
       "      <th>1</th>\n",
       "      <td>1503960366</td>\n",
       "      <td>2016-04-13</td>\n",
       "      <td>10735</td>\n",
       "      <td>6.97</td>\n",
       "      <td>6.97</td>\n",
       "      <td>0.0</td>\n",
       "      <td>1.57</td>\n",
       "      <td>0.69</td>\n",
       "      <td>4.71</td>\n",
       "      <td>0.0</td>\n",
       "      <td>...</td>\n",
       "      <td>776</td>\n",
       "      <td>1797</td>\n",
       "      <td>2016-04-13</td>\n",
       "      <td>2016-04-13</td>\n",
       "      <td>2</td>\n",
       "      <td>384</td>\n",
       "      <td>407</td>\n",
       "      <td>00:00:00</td>\n",
       "      <td>40</td>\n",
       "      <td>257</td>\n",
       "    </tr>\n",
       "    <tr>\n",
       "      <th>2</th>\n",
       "      <td>1503960366</td>\n",
       "      <td>2016-04-15</td>\n",
       "      <td>9762</td>\n",
       "      <td>6.28</td>\n",
       "      <td>6.28</td>\n",
       "      <td>0.0</td>\n",
       "      <td>2.14</td>\n",
       "      <td>1.26</td>\n",
       "      <td>2.83</td>\n",
       "      <td>0.0</td>\n",
       "      <td>...</td>\n",
       "      <td>726</td>\n",
       "      <td>1745</td>\n",
       "      <td>2016-04-15</td>\n",
       "      <td>2016-04-15</td>\n",
       "      <td>1</td>\n",
       "      <td>412</td>\n",
       "      <td>442</td>\n",
       "      <td>00:00:00</td>\n",
       "      <td>63</td>\n",
       "      <td>272</td>\n",
       "    </tr>\n",
       "    <tr>\n",
       "      <th>3</th>\n",
       "      <td>1503960366</td>\n",
       "      <td>2016-04-16</td>\n",
       "      <td>12669</td>\n",
       "      <td>8.16</td>\n",
       "      <td>8.16</td>\n",
       "      <td>0.0</td>\n",
       "      <td>2.71</td>\n",
       "      <td>0.41</td>\n",
       "      <td>5.04</td>\n",
       "      <td>0.0</td>\n",
       "      <td>...</td>\n",
       "      <td>773</td>\n",
       "      <td>1863</td>\n",
       "      <td>2016-04-16</td>\n",
       "      <td>2016-04-16</td>\n",
       "      <td>2</td>\n",
       "      <td>340</td>\n",
       "      <td>367</td>\n",
       "      <td>00:00:00</td>\n",
       "      <td>46</td>\n",
       "      <td>267</td>\n",
       "    </tr>\n",
       "    <tr>\n",
       "      <th>4</th>\n",
       "      <td>1503960366</td>\n",
       "      <td>2016-04-17</td>\n",
       "      <td>9705</td>\n",
       "      <td>6.48</td>\n",
       "      <td>6.48</td>\n",
       "      <td>0.0</td>\n",
       "      <td>3.19</td>\n",
       "      <td>0.78</td>\n",
       "      <td>2.51</td>\n",
       "      <td>0.0</td>\n",
       "      <td>...</td>\n",
       "      <td>539</td>\n",
       "      <td>1728</td>\n",
       "      <td>2016-04-17</td>\n",
       "      <td>2016-04-17</td>\n",
       "      <td>1</td>\n",
       "      <td>700</td>\n",
       "      <td>712</td>\n",
       "      <td>00:00:00</td>\n",
       "      <td>58</td>\n",
       "      <td>222</td>\n",
       "    </tr>\n",
       "  </tbody>\n",
       "</table>\n",
       "<p>5 rows × 23 columns</p>\n",
       "</div>"
      ],
      "text/plain": [
       "           Id ActivityDate  TotalSteps  TotalDistance  TrackerDistance  \\\n",
       "0  1503960366   2016-04-12       13162           8.50             8.50   \n",
       "1  1503960366   2016-04-13       10735           6.97             6.97   \n",
       "2  1503960366   2016-04-15        9762           6.28             6.28   \n",
       "3  1503960366   2016-04-16       12669           8.16             8.16   \n",
       "4  1503960366   2016-04-17        9705           6.48             6.48   \n",
       "\n",
       "   LoggedActivitiesDistance  VeryActiveDistance  ModeratelyActiveDistance  \\\n",
       "0                       0.0                1.88                      0.55   \n",
       "1                       0.0                1.57                      0.69   \n",
       "2                       0.0                2.14                      1.26   \n",
       "3                       0.0                2.71                      0.41   \n",
       "4                       0.0                3.19                      0.78   \n",
       "\n",
       "   LightActiveDistance  SedentaryActiveDistance  ...  SedentaryMinutes  \\\n",
       "0                 6.06                      0.0  ...               728   \n",
       "1                 4.71                      0.0  ...               776   \n",
       "2                 2.83                      0.0  ...               726   \n",
       "3                 5.04                      0.0  ...               773   \n",
       "4                 2.51                      0.0  ...               539   \n",
       "\n",
       "   Calories        Date   SleepDay  TotalSleepRecords TotalMinutesAsleep  \\\n",
       "0      1985  2016-04-12 2016-04-12                  1                327   \n",
       "1      1797  2016-04-13 2016-04-13                  2                384   \n",
       "2      1745  2016-04-15 2016-04-15                  1                412   \n",
       "3      1863  2016-04-16 2016-04-16                  2                340   \n",
       "4      1728  2016-04-17 2016-04-17                  1                700   \n",
       "\n",
       "  TotalTimeInBed      Time  TotalExerciseMinutes  TotalActiveMinutes  \n",
       "0            346  00:00:00                    38                 366  \n",
       "1            407  00:00:00                    40                 257  \n",
       "2            442  00:00:00                    63                 272  \n",
       "3            367  00:00:00                    46                 267  \n",
       "4            712  00:00:00                    58                 222  \n",
       "\n",
       "[5 rows x 23 columns]"
      ]
     },
     "execution_count": 30,
     "metadata": {},
     "output_type": "execute_result"
    }
   ],
   "source": [
    "# Add TotalExerciseMinutes and TotalActiveMinutes\n",
    "daily_df['TotalExerciseMinutes'] = daily_df['VeryActiveMinutes'] + daily_df['FairlyActiveMinutes']\n",
    "daily_df['TotalActiveMinutes'] = daily_df['TotalExerciseMinutes'] + daily_df['LightlyActiveMinutes']\n",
    "daily_df.head()"
   ]
  },
  {
   "cell_type": "code",
   "execution_count": 31,
   "id": "33deee10",
   "metadata": {
    "execution": {
     "iopub.execute_input": "2023-08-08T08:38:40.081259Z",
     "iopub.status.busy": "2023-08-08T08:38:40.080855Z",
     "iopub.status.idle": "2023-08-08T08:38:40.115445Z",
     "shell.execute_reply": "2023-08-08T08:38:40.114242Z"
    },
    "papermill": {
     "duration": 0.068303,
     "end_time": "2023-08-08T08:38:40.117832",
     "exception": false,
     "start_time": "2023-08-08T08:38:40.049529",
     "status": "completed"
    },
    "tags": []
   },
   "outputs": [
    {
     "data": {
      "text/html": [
       "<div>\n",
       "<style scoped>\n",
       "    .dataframe tbody tr th:only-of-type {\n",
       "        vertical-align: middle;\n",
       "    }\n",
       "\n",
       "    .dataframe tbody tr th {\n",
       "        vertical-align: top;\n",
       "    }\n",
       "\n",
       "    .dataframe thead th {\n",
       "        text-align: right;\n",
       "    }\n",
       "</style>\n",
       "<table border=\"1\" class=\"dataframe\">\n",
       "  <thead>\n",
       "    <tr style=\"text-align: right;\">\n",
       "      <th></th>\n",
       "      <th>Id</th>\n",
       "      <th>ActivityDate</th>\n",
       "      <th>TotalSteps</th>\n",
       "      <th>TotalDistance</th>\n",
       "      <th>TrackerDistance</th>\n",
       "      <th>LoggedActivitiesDistance</th>\n",
       "      <th>VeryActiveDistance</th>\n",
       "      <th>ModeratelyActiveDistance</th>\n",
       "      <th>LightActiveDistance</th>\n",
       "      <th>SedentaryActiveDistance</th>\n",
       "      <th>...</th>\n",
       "      <th>Calories</th>\n",
       "      <th>Date</th>\n",
       "      <th>SleepDay</th>\n",
       "      <th>TotalSleepRecords</th>\n",
       "      <th>TotalMinutesAsleep</th>\n",
       "      <th>TotalTimeInBed</th>\n",
       "      <th>Time</th>\n",
       "      <th>TotalExerciseMinutes</th>\n",
       "      <th>TotalActiveMinutes</th>\n",
       "      <th>DayOfWeek</th>\n",
       "    </tr>\n",
       "  </thead>\n",
       "  <tbody>\n",
       "    <tr>\n",
       "      <th>0</th>\n",
       "      <td>1503960366</td>\n",
       "      <td>2016-04-12</td>\n",
       "      <td>13162</td>\n",
       "      <td>8.50</td>\n",
       "      <td>8.50</td>\n",
       "      <td>0.0</td>\n",
       "      <td>1.88</td>\n",
       "      <td>0.55</td>\n",
       "      <td>6.06</td>\n",
       "      <td>0.0</td>\n",
       "      <td>...</td>\n",
       "      <td>1985</td>\n",
       "      <td>2016-04-12</td>\n",
       "      <td>2016-04-12</td>\n",
       "      <td>1</td>\n",
       "      <td>327</td>\n",
       "      <td>346</td>\n",
       "      <td>00:00:00</td>\n",
       "      <td>38</td>\n",
       "      <td>366</td>\n",
       "      <td>Tuesday</td>\n",
       "    </tr>\n",
       "    <tr>\n",
       "      <th>1</th>\n",
       "      <td>1503960366</td>\n",
       "      <td>2016-04-13</td>\n",
       "      <td>10735</td>\n",
       "      <td>6.97</td>\n",
       "      <td>6.97</td>\n",
       "      <td>0.0</td>\n",
       "      <td>1.57</td>\n",
       "      <td>0.69</td>\n",
       "      <td>4.71</td>\n",
       "      <td>0.0</td>\n",
       "      <td>...</td>\n",
       "      <td>1797</td>\n",
       "      <td>2016-04-13</td>\n",
       "      <td>2016-04-13</td>\n",
       "      <td>2</td>\n",
       "      <td>384</td>\n",
       "      <td>407</td>\n",
       "      <td>00:00:00</td>\n",
       "      <td>40</td>\n",
       "      <td>257</td>\n",
       "      <td>Wednesday</td>\n",
       "    </tr>\n",
       "    <tr>\n",
       "      <th>2</th>\n",
       "      <td>1503960366</td>\n",
       "      <td>2016-04-15</td>\n",
       "      <td>9762</td>\n",
       "      <td>6.28</td>\n",
       "      <td>6.28</td>\n",
       "      <td>0.0</td>\n",
       "      <td>2.14</td>\n",
       "      <td>1.26</td>\n",
       "      <td>2.83</td>\n",
       "      <td>0.0</td>\n",
       "      <td>...</td>\n",
       "      <td>1745</td>\n",
       "      <td>2016-04-15</td>\n",
       "      <td>2016-04-15</td>\n",
       "      <td>1</td>\n",
       "      <td>412</td>\n",
       "      <td>442</td>\n",
       "      <td>00:00:00</td>\n",
       "      <td>63</td>\n",
       "      <td>272</td>\n",
       "      <td>Friday</td>\n",
       "    </tr>\n",
       "    <tr>\n",
       "      <th>3</th>\n",
       "      <td>1503960366</td>\n",
       "      <td>2016-04-16</td>\n",
       "      <td>12669</td>\n",
       "      <td>8.16</td>\n",
       "      <td>8.16</td>\n",
       "      <td>0.0</td>\n",
       "      <td>2.71</td>\n",
       "      <td>0.41</td>\n",
       "      <td>5.04</td>\n",
       "      <td>0.0</td>\n",
       "      <td>...</td>\n",
       "      <td>1863</td>\n",
       "      <td>2016-04-16</td>\n",
       "      <td>2016-04-16</td>\n",
       "      <td>2</td>\n",
       "      <td>340</td>\n",
       "      <td>367</td>\n",
       "      <td>00:00:00</td>\n",
       "      <td>46</td>\n",
       "      <td>267</td>\n",
       "      <td>Saturday</td>\n",
       "    </tr>\n",
       "    <tr>\n",
       "      <th>4</th>\n",
       "      <td>1503960366</td>\n",
       "      <td>2016-04-17</td>\n",
       "      <td>9705</td>\n",
       "      <td>6.48</td>\n",
       "      <td>6.48</td>\n",
       "      <td>0.0</td>\n",
       "      <td>3.19</td>\n",
       "      <td>0.78</td>\n",
       "      <td>2.51</td>\n",
       "      <td>0.0</td>\n",
       "      <td>...</td>\n",
       "      <td>1728</td>\n",
       "      <td>2016-04-17</td>\n",
       "      <td>2016-04-17</td>\n",
       "      <td>1</td>\n",
       "      <td>700</td>\n",
       "      <td>712</td>\n",
       "      <td>00:00:00</td>\n",
       "      <td>58</td>\n",
       "      <td>222</td>\n",
       "      <td>Sunday</td>\n",
       "    </tr>\n",
       "  </tbody>\n",
       "</table>\n",
       "<p>5 rows × 24 columns</p>\n",
       "</div>"
      ],
      "text/plain": [
       "           Id ActivityDate  TotalSteps  TotalDistance  TrackerDistance  \\\n",
       "0  1503960366   2016-04-12       13162           8.50             8.50   \n",
       "1  1503960366   2016-04-13       10735           6.97             6.97   \n",
       "2  1503960366   2016-04-15        9762           6.28             6.28   \n",
       "3  1503960366   2016-04-16       12669           8.16             8.16   \n",
       "4  1503960366   2016-04-17        9705           6.48             6.48   \n",
       "\n",
       "   LoggedActivitiesDistance  VeryActiveDistance  ModeratelyActiveDistance  \\\n",
       "0                       0.0                1.88                      0.55   \n",
       "1                       0.0                1.57                      0.69   \n",
       "2                       0.0                2.14                      1.26   \n",
       "3                       0.0                2.71                      0.41   \n",
       "4                       0.0                3.19                      0.78   \n",
       "\n",
       "   LightActiveDistance  SedentaryActiveDistance  ...  Calories        Date  \\\n",
       "0                 6.06                      0.0  ...      1985  2016-04-12   \n",
       "1                 4.71                      0.0  ...      1797  2016-04-13   \n",
       "2                 2.83                      0.0  ...      1745  2016-04-15   \n",
       "3                 5.04                      0.0  ...      1863  2016-04-16   \n",
       "4                 2.51                      0.0  ...      1728  2016-04-17   \n",
       "\n",
       "    SleepDay  TotalSleepRecords  TotalMinutesAsleep TotalTimeInBed      Time  \\\n",
       "0 2016-04-12                  1                 327            346  00:00:00   \n",
       "1 2016-04-13                  2                 384            407  00:00:00   \n",
       "2 2016-04-15                  1                 412            442  00:00:00   \n",
       "3 2016-04-16                  2                 340            367  00:00:00   \n",
       "4 2016-04-17                  1                 700            712  00:00:00   \n",
       "\n",
       "   TotalExerciseMinutes  TotalActiveMinutes  DayOfWeek  \n",
       "0                    38                 366    Tuesday  \n",
       "1                    40                 257  Wednesday  \n",
       "2                    63                 272     Friday  \n",
       "3                    46                 267   Saturday  \n",
       "4                    58                 222     Sunday  \n",
       "\n",
       "[5 rows x 24 columns]"
      ]
     },
     "execution_count": 31,
     "metadata": {},
     "output_type": "execute_result"
    }
   ],
   "source": [
    "# Add DayOfWeek column to identify day of week\n",
    "daily_df['DayOfWeek'] = daily_df['ActivityDate'].dt.dayofweek\n",
    "daily_df['DayOfWeek'] = daily_df['DayOfWeek'].map({\n",
    "    0:'Monday',\n",
    "    1:'Tuesday',\n",
    "    2:'Wednesday',\n",
    "    3:'Thursday',\n",
    "    4:'Friday',\n",
    "    5:'Saturday',\n",
    "    6:'Sunday'\n",
    "})\n",
    "daily_df['DayOfWeek'] = pd.Categorical(daily_df['DayOfWeek'], categories=['Monday',\n",
    "                                                                          'Tuesday',\n",
    "                                                                          'Wednesday',\n",
    "                                                                          'Thursday',\n",
    "                                                                          'Friday','Saturday',\n",
    "                                                                          'Sunday'], \n",
    "                                       ordered=True)\n",
    "daily_df.head()"
   ]
  },
  {
   "cell_type": "code",
   "execution_count": 32,
   "id": "39c4eefb",
   "metadata": {
    "execution": {
     "iopub.execute_input": "2023-08-08T08:38:40.181119Z",
     "iopub.status.busy": "2023-08-08T08:38:40.180374Z",
     "iopub.status.idle": "2023-08-08T08:38:40.218117Z",
     "shell.execute_reply": "2023-08-08T08:38:40.216921Z"
    },
    "papermill": {
     "duration": 0.071897,
     "end_time": "2023-08-08T08:38:40.220526",
     "exception": false,
     "start_time": "2023-08-08T08:38:40.148629",
     "status": "completed"
    },
    "tags": []
   },
   "outputs": [
    {
     "data": {
      "text/html": [
       "<div>\n",
       "<style scoped>\n",
       "    .dataframe tbody tr th:only-of-type {\n",
       "        vertical-align: middle;\n",
       "    }\n",
       "\n",
       "    .dataframe tbody tr th {\n",
       "        vertical-align: top;\n",
       "    }\n",
       "\n",
       "    .dataframe thead th {\n",
       "        text-align: right;\n",
       "    }\n",
       "</style>\n",
       "<table border=\"1\" class=\"dataframe\">\n",
       "  <thead>\n",
       "    <tr style=\"text-align: right;\">\n",
       "      <th></th>\n",
       "      <th>TotalSteps</th>\n",
       "      <th>Calories</th>\n",
       "      <th>TotalExerciseMinutes</th>\n",
       "      <th>TotalActiveMinutes</th>\n",
       "      <th>VeryActiveMinutes</th>\n",
       "      <th>FairlyActiveMinutes</th>\n",
       "      <th>LightlyActiveMinutes</th>\n",
       "      <th>SedentaryMinutes</th>\n",
       "    </tr>\n",
       "  </thead>\n",
       "  <tbody>\n",
       "    <tr>\n",
       "      <th>count</th>\n",
       "      <td>410.000000</td>\n",
       "      <td>410.000000</td>\n",
       "      <td>410.000000</td>\n",
       "      <td>410.000000</td>\n",
       "      <td>410.000000</td>\n",
       "      <td>410.000000</td>\n",
       "      <td>410.000000</td>\n",
       "      <td>410.000000</td>\n",
       "    </tr>\n",
       "    <tr>\n",
       "      <th>mean</th>\n",
       "      <td>8514.909756</td>\n",
       "      <td>2389.295122</td>\n",
       "      <td>42.970732</td>\n",
       "      <td>259.512195</td>\n",
       "      <td>25.046341</td>\n",
       "      <td>17.924390</td>\n",
       "      <td>216.541463</td>\n",
       "      <td>712.100000</td>\n",
       "    </tr>\n",
       "    <tr>\n",
       "      <th>std</th>\n",
       "      <td>4157.375584</td>\n",
       "      <td>758.435040</td>\n",
       "      <td>48.360243</td>\n",
       "      <td>92.173330</td>\n",
       "      <td>36.218237</td>\n",
       "      <td>22.418593</td>\n",
       "      <td>86.705299</td>\n",
       "      <td>166.179395</td>\n",
       "    </tr>\n",
       "    <tr>\n",
       "      <th>min</th>\n",
       "      <td>17.000000</td>\n",
       "      <td>257.000000</td>\n",
       "      <td>0.000000</td>\n",
       "      <td>2.000000</td>\n",
       "      <td>0.000000</td>\n",
       "      <td>0.000000</td>\n",
       "      <td>2.000000</td>\n",
       "      <td>0.000000</td>\n",
       "    </tr>\n",
       "    <tr>\n",
       "      <th>25%</th>\n",
       "      <td>5188.750000</td>\n",
       "      <td>1841.000000</td>\n",
       "      <td>0.000000</td>\n",
       "      <td>206.500000</td>\n",
       "      <td>0.000000</td>\n",
       "      <td>0.000000</td>\n",
       "      <td>158.000000</td>\n",
       "      <td>631.250000</td>\n",
       "    </tr>\n",
       "    <tr>\n",
       "      <th>50%</th>\n",
       "      <td>8913.000000</td>\n",
       "      <td>2207.000000</td>\n",
       "      <td>30.000000</td>\n",
       "      <td>263.500000</td>\n",
       "      <td>9.000000</td>\n",
       "      <td>11.000000</td>\n",
       "      <td>208.000000</td>\n",
       "      <td>717.000000</td>\n",
       "    </tr>\n",
       "    <tr>\n",
       "      <th>75%</th>\n",
       "      <td>11370.250000</td>\n",
       "      <td>2920.000000</td>\n",
       "      <td>67.750000</td>\n",
       "      <td>315.500000</td>\n",
       "      <td>38.000000</td>\n",
       "      <td>26.750000</td>\n",
       "      <td>263.000000</td>\n",
       "      <td>782.750000</td>\n",
       "    </tr>\n",
       "    <tr>\n",
       "      <th>max</th>\n",
       "      <td>22770.000000</td>\n",
       "      <td>4900.000000</td>\n",
       "      <td>275.000000</td>\n",
       "      <td>540.000000</td>\n",
       "      <td>210.000000</td>\n",
       "      <td>143.000000</td>\n",
       "      <td>518.000000</td>\n",
       "      <td>1265.000000</td>\n",
       "    </tr>\n",
       "  </tbody>\n",
       "</table>\n",
       "</div>"
      ],
      "text/plain": [
       "         TotalSteps     Calories  TotalExerciseMinutes  TotalActiveMinutes  \\\n",
       "count    410.000000   410.000000            410.000000          410.000000   \n",
       "mean    8514.909756  2389.295122             42.970732          259.512195   \n",
       "std     4157.375584   758.435040             48.360243           92.173330   \n",
       "min       17.000000   257.000000              0.000000            2.000000   \n",
       "25%     5188.750000  1841.000000              0.000000          206.500000   \n",
       "50%     8913.000000  2207.000000             30.000000          263.500000   \n",
       "75%    11370.250000  2920.000000             67.750000          315.500000   \n",
       "max    22770.000000  4900.000000            275.000000          540.000000   \n",
       "\n",
       "       VeryActiveMinutes  FairlyActiveMinutes  LightlyActiveMinutes  \\\n",
       "count         410.000000           410.000000            410.000000   \n",
       "mean           25.046341            17.924390            216.541463   \n",
       "std            36.218237            22.418593             86.705299   \n",
       "min             0.000000             0.000000              2.000000   \n",
       "25%             0.000000             0.000000            158.000000   \n",
       "50%             9.000000            11.000000            208.000000   \n",
       "75%            38.000000            26.750000            263.000000   \n",
       "max           210.000000           143.000000            518.000000   \n",
       "\n",
       "       SedentaryMinutes  \n",
       "count        410.000000  \n",
       "mean         712.100000  \n",
       "std          166.179395  \n",
       "min            0.000000  \n",
       "25%          631.250000  \n",
       "50%          717.000000  \n",
       "75%          782.750000  \n",
       "max         1265.000000  "
      ]
     },
     "execution_count": 32,
     "metadata": {},
     "output_type": "execute_result"
    }
   ],
   "source": [
    "# Summary by Activity\n",
    "daily_df[['TotalSteps',\n",
    "         'Calories',\n",
    "         'TotalExerciseMinutes',\n",
    "         'TotalActiveMinutes',\n",
    "         'VeryActiveMinutes',\n",
    "         'FairlyActiveMinutes',\n",
    "         'LightlyActiveMinutes',\n",
    "         'SedentaryMinutes']].describe()"
   ]
  },
  {
   "cell_type": "markdown",
   "id": "8edd376b",
   "metadata": {
    "papermill": {
     "duration": 0.030765,
     "end_time": "2023-08-08T08:38:40.282259",
     "exception": false,
     "start_time": "2023-08-08T08:38:40.251494",
     "status": "completed"
    },
    "tags": []
   },
   "source": [
    "* On average, Fitbit users'daily steps are 8,515, which is lower than tergeted 10,000 steps recommended by CDC\n",
    "* Among 259 active minutes, only 1/6 (43 minutes) are spent on exercises.\n",
    "* Sedentary time are 2.7 times higher than Active time (92 minutes), and 16.5 times high than Exercise time (43 minutes)"
   ]
  },
  {
   "cell_type": "code",
   "execution_count": 33,
   "id": "5d92f439",
   "metadata": {
    "execution": {
     "iopub.execute_input": "2023-08-08T08:38:40.348693Z",
     "iopub.status.busy": "2023-08-08T08:38:40.347346Z",
     "iopub.status.idle": "2023-08-08T08:38:40.367632Z",
     "shell.execute_reply": "2023-08-08T08:38:40.366819Z"
    },
    "papermill": {
     "duration": 0.056463,
     "end_time": "2023-08-08T08:38:40.369698",
     "exception": false,
     "start_time": "2023-08-08T08:38:40.313235",
     "status": "completed"
    },
    "tags": []
   },
   "outputs": [
    {
     "data": {
      "text/html": [
       "<div>\n",
       "<style scoped>\n",
       "    .dataframe tbody tr th:only-of-type {\n",
       "        vertical-align: middle;\n",
       "    }\n",
       "\n",
       "    .dataframe tbody tr th {\n",
       "        vertical-align: top;\n",
       "    }\n",
       "\n",
       "    .dataframe thead th {\n",
       "        text-align: right;\n",
       "    }\n",
       "</style>\n",
       "<table border=\"1\" class=\"dataframe\">\n",
       "  <thead>\n",
       "    <tr style=\"text-align: right;\">\n",
       "      <th></th>\n",
       "      <th>DayOfWeek</th>\n",
       "      <th>TotalActiveMinutes</th>\n",
       "      <th>TotalExerciseMinutes</th>\n",
       "      <th>VeryActiveMinutes</th>\n",
       "      <th>FairlyActiveMinutes</th>\n",
       "      <th>LightlyActiveMinutes</th>\n",
       "      <th>SedentaryMinutes</th>\n",
       "    </tr>\n",
       "  </thead>\n",
       "  <tbody>\n",
       "    <tr>\n",
       "      <th>0</th>\n",
       "      <td>Monday</td>\n",
       "      <td>272.173913</td>\n",
       "      <td>49.804348</td>\n",
       "      <td>30.717391</td>\n",
       "      <td>19.086957</td>\n",
       "      <td>222.369565</td>\n",
       "      <td>718.413043</td>\n",
       "    </tr>\n",
       "    <tr>\n",
       "      <th>1</th>\n",
       "      <td>Tuesday</td>\n",
       "      <td>267.246154</td>\n",
       "      <td>50.661538</td>\n",
       "      <td>30.615385</td>\n",
       "      <td>20.046154</td>\n",
       "      <td>216.584615</td>\n",
       "      <td>740.046154</td>\n",
       "    </tr>\n",
       "    <tr>\n",
       "      <th>2</th>\n",
       "      <td>Wednesday</td>\n",
       "      <td>246.045455</td>\n",
       "      <td>38.075758</td>\n",
       "      <td>21.333333</td>\n",
       "      <td>16.742424</td>\n",
       "      <td>207.969697</td>\n",
       "      <td>714.454545</td>\n",
       "    </tr>\n",
       "    <tr>\n",
       "      <th>3</th>\n",
       "      <td>Thursday</td>\n",
       "      <td>241.656250</td>\n",
       "      <td>38.718750</td>\n",
       "      <td>22.859375</td>\n",
       "      <td>15.859375</td>\n",
       "      <td>202.937500</td>\n",
       "      <td>698.375000</td>\n",
       "    </tr>\n",
       "    <tr>\n",
       "      <th>4</th>\n",
       "      <td>Friday</td>\n",
       "      <td>258.421053</td>\n",
       "      <td>35.736842</td>\n",
       "      <td>21.157895</td>\n",
       "      <td>14.578947</td>\n",
       "      <td>222.684211</td>\n",
       "      <td>743.087719</td>\n",
       "    </tr>\n",
       "    <tr>\n",
       "      <th>5</th>\n",
       "      <td>Saturday</td>\n",
       "      <td>297.052632</td>\n",
       "      <td>50.280702</td>\n",
       "      <td>27.561404</td>\n",
       "      <td>22.719298</td>\n",
       "      <td>246.771930</td>\n",
       "      <td>680.438596</td>\n",
       "    </tr>\n",
       "    <tr>\n",
       "      <th>6</th>\n",
       "      <td>Sunday</td>\n",
       "      <td>238.945455</td>\n",
       "      <td>38.909091</td>\n",
       "      <td>22.145455</td>\n",
       "      <td>16.763636</td>\n",
       "      <td>200.036364</td>\n",
       "      <td>687.636364</td>\n",
       "    </tr>\n",
       "  </tbody>\n",
       "</table>\n",
       "</div>"
      ],
      "text/plain": [
       "   DayOfWeek  TotalActiveMinutes  TotalExerciseMinutes  VeryActiveMinutes  \\\n",
       "0     Monday          272.173913             49.804348          30.717391   \n",
       "1    Tuesday          267.246154             50.661538          30.615385   \n",
       "2  Wednesday          246.045455             38.075758          21.333333   \n",
       "3   Thursday          241.656250             38.718750          22.859375   \n",
       "4     Friday          258.421053             35.736842          21.157895   \n",
       "5   Saturday          297.052632             50.280702          27.561404   \n",
       "6     Sunday          238.945455             38.909091          22.145455   \n",
       "\n",
       "   FairlyActiveMinutes  LightlyActiveMinutes  SedentaryMinutes  \n",
       "0            19.086957            222.369565        718.413043  \n",
       "1            20.046154            216.584615        740.046154  \n",
       "2            16.742424            207.969697        714.454545  \n",
       "3            15.859375            202.937500        698.375000  \n",
       "4            14.578947            222.684211        743.087719  \n",
       "5            22.719298            246.771930        680.438596  \n",
       "6            16.763636            200.036364        687.636364  "
      ]
     },
     "execution_count": 33,
     "metadata": {},
     "output_type": "execute_result"
    }
   ],
   "source": [
    "# On what days do users exercise most?\n",
    "DayOfWeek_Summary = daily_df.groupby('DayOfWeek')[['TotalActiveMinutes',\n",
    "                                                'TotalExerciseMinutes',\n",
    "                                                'VeryActiveMinutes',\n",
    "                                                'FairlyActiveMinutes',\n",
    "                                                'LightlyActiveMinutes',\n",
    "                                                'SedentaryMinutes']].mean().reset_index()\n",
    "DayOfWeek_Summary"
   ]
  },
  {
   "cell_type": "markdown",
   "id": "5b23d3f9",
   "metadata": {
    "papermill": {
     "duration": 0.03149,
     "end_time": "2023-08-08T08:38:40.433282",
     "exception": false,
     "start_time": "2023-08-08T08:38:40.401792",
     "status": "completed"
    },
    "tags": []
   },
   "source": [
    "* Saturday has highest Active Time, next comes Monday and Tuesday.\n",
    "* Tuesday has highest Exercise Time, next comes Saturday and Monday"
   ]
  },
  {
   "cell_type": "code",
   "execution_count": 34,
   "id": "630dec9d",
   "metadata": {
    "execution": {
     "iopub.execute_input": "2023-08-08T08:38:40.497936Z",
     "iopub.status.busy": "2023-08-08T08:38:40.496854Z",
     "iopub.status.idle": "2023-08-08T08:38:40.986176Z",
     "shell.execute_reply": "2023-08-08T08:38:40.984877Z"
    },
    "papermill": {
     "duration": 0.524666,
     "end_time": "2023-08-08T08:38:40.989188",
     "exception": false,
     "start_time": "2023-08-08T08:38:40.464522",
     "status": "completed"
    },
    "tags": []
   },
   "outputs": [
    {
     "data": {
      "text/plain": [
       "<matplotlib.legend.Legend at 0x7874b9b0dc90>"
      ]
     },
     "execution_count": 34,
     "metadata": {},
     "output_type": "execute_result"
    },
    {
     "data": {
      "image/png": "[encoded data removed]",
      "text/plain": [
       "<Figure size 1000x500 with 1 Axes>"
      ]
     },
     "metadata": {},
     "output_type": "display_data"
    }
   ],
   "source": [
    "# Plot it on a graph\n",
    "ycols = ['TotalActiveMinutes',\n",
    "        'TotalExerciseMinutes',\n",
    "        'VeryActiveMinutes',\n",
    "        'FairlyActiveMinutes',\n",
    "        'LightlyActiveMinutes',\n",
    "        'SedentaryMinutes']\n",
    "plt.figure(figsize=(10,5))\n",
    "plt.plot(DayOfWeek_Summary['DayOfWeek'],\n",
    "        DayOfWeek_Summary[ycols], label=ycols)\n",
    "plt.xlabel('Day Of Week')\n",
    "plt.ylabel('Active Minutes')\n",
    "plt.title('Daily Active Minutes Per Categories')\n",
    "plt.legend(bbox_to_anchor=(1,0), loc='lower left')"
   ]
  },
  {
   "cell_type": "markdown",
   "id": "548b2bbe",
   "metadata": {
    "papermill": {
     "duration": 0.031968,
     "end_time": "2023-08-08T08:38:41.054260",
     "exception": false,
     "start_time": "2023-08-08T08:38:41.022292",
     "status": "completed"
    },
    "tags": []
   },
   "source": [
    "* Saturday is the most active day and lowest Sedendary Time\n",
    "* Friday has the most Sedentary Time.\n",
    "* Interestingly, although Tuesday has the highest Exercise time, Sedentary time is also the second highest."
   ]
  },
  {
   "cell_type": "code",
   "execution_count": 35,
   "id": "02debd8b",
   "metadata": {
    "execution": {
     "iopub.execute_input": "2023-08-08T08:38:41.120699Z",
     "iopub.status.busy": "2023-08-08T08:38:41.120312Z",
     "iopub.status.idle": "2023-08-08T08:38:41.143167Z",
     "shell.execute_reply": "2023-08-08T08:38:41.142016Z"
    },
    "papermill": {
     "duration": 0.059159,
     "end_time": "2023-08-08T08:38:41.145558",
     "exception": false,
     "start_time": "2023-08-08T08:38:41.086399",
     "status": "completed"
    },
    "tags": []
   },
   "outputs": [
    {
     "data": {
      "text/html": [
       "<div>\n",
       "<style scoped>\n",
       "    .dataframe tbody tr th:only-of-type {\n",
       "        vertical-align: middle;\n",
       "    }\n",
       "\n",
       "    .dataframe tbody tr th {\n",
       "        vertical-align: top;\n",
       "    }\n",
       "\n",
       "    .dataframe thead th {\n",
       "        text-align: right;\n",
       "    }\n",
       "</style>\n",
       "<table border=\"1\" class=\"dataframe\">\n",
       "  <thead>\n",
       "    <tr style=\"text-align: right;\">\n",
       "      <th></th>\n",
       "      <th>TotalMinutesAsleep</th>\n",
       "      <th>TotalSteps</th>\n",
       "      <th>TotalActiveMinutes</th>\n",
       "      <th>TotalExerciseMinutes</th>\n",
       "      <th>VeryActiveMinutes</th>\n",
       "      <th>FairlyActiveMinutes</th>\n",
       "      <th>LightlyActiveMinutes</th>\n",
       "      <th>SedentaryMinutes</th>\n",
       "      <th>Calories</th>\n",
       "    </tr>\n",
       "  </thead>\n",
       "  <tbody>\n",
       "    <tr>\n",
       "      <th>TotalMinutesAsleep</th>\n",
       "      <td>1.000000</td>\n",
       "      <td>-0.190344</td>\n",
       "      <td>-0.069294</td>\n",
       "      <td>-0.181527</td>\n",
       "      <td>-0.088127</td>\n",
       "      <td>-0.249208</td>\n",
       "      <td>0.027583</td>\n",
       "      <td>-0.601073</td>\n",
       "      <td>-0.031699</td>\n",
       "    </tr>\n",
       "    <tr>\n",
       "      <th>TotalSteps</th>\n",
       "      <td>-0.190344</td>\n",
       "      <td>1.000000</td>\n",
       "      <td>0.744648</td>\n",
       "      <td>0.670820</td>\n",
       "      <td>0.543694</td>\n",
       "      <td>0.568696</td>\n",
       "      <td>0.417457</td>\n",
       "      <td>-0.130036</td>\n",
       "      <td>0.406301</td>\n",
       "    </tr>\n",
       "    <tr>\n",
       "      <th>TotalActiveMinutes</th>\n",
       "      <td>-0.069294</td>\n",
       "      <td>0.744648</td>\n",
       "      <td>1.000000</td>\n",
       "      <td>0.372048</td>\n",
       "      <td>0.278751</td>\n",
       "      <td>0.352228</td>\n",
       "      <td>0.855553</td>\n",
       "      <td>-0.262689</td>\n",
       "      <td>0.389983</td>\n",
       "    </tr>\n",
       "    <tr>\n",
       "      <th>TotalExerciseMinutes</th>\n",
       "      <td>-0.181527</td>\n",
       "      <td>0.670820</td>\n",
       "      <td>0.372048</td>\n",
       "      <td>1.000000</td>\n",
       "      <td>0.898613</td>\n",
       "      <td>0.705400</td>\n",
       "      <td>-0.162243</td>\n",
       "      <td>-0.031330</td>\n",
       "      <td>0.539326</td>\n",
       "    </tr>\n",
       "    <tr>\n",
       "      <th>VeryActiveMinutes</th>\n",
       "      <td>-0.088127</td>\n",
       "      <td>0.543694</td>\n",
       "      <td>0.278751</td>\n",
       "      <td>0.898613</td>\n",
       "      <td>1.000000</td>\n",
       "      <td>0.322896</td>\n",
       "      <td>-0.204874</td>\n",
       "      <td>-0.016484</td>\n",
       "      <td>0.611198</td>\n",
       "    </tr>\n",
       "    <tr>\n",
       "      <th>FairlyActiveMinutes</th>\n",
       "      <td>-0.249208</td>\n",
       "      <td>0.568696</td>\n",
       "      <td>0.352228</td>\n",
       "      <td>0.705400</td>\n",
       "      <td>0.322896</td>\n",
       "      <td>1.000000</td>\n",
       "      <td>-0.018999</td>\n",
       "      <td>-0.040954</td>\n",
       "      <td>0.175988</td>\n",
       "    </tr>\n",
       "    <tr>\n",
       "      <th>LightlyActiveMinutes</th>\n",
       "      <td>0.027583</td>\n",
       "      <td>0.417457</td>\n",
       "      <td>0.855553</td>\n",
       "      <td>-0.162243</td>\n",
       "      <td>-0.204874</td>\n",
       "      <td>-0.018999</td>\n",
       "      <td>1.000000</td>\n",
       "      <td>-0.261781</td>\n",
       "      <td>0.113766</td>\n",
       "    </tr>\n",
       "    <tr>\n",
       "      <th>SedentaryMinutes</th>\n",
       "      <td>-0.601073</td>\n",
       "      <td>-0.130036</td>\n",
       "      <td>-0.262689</td>\n",
       "      <td>-0.031330</td>\n",
       "      <td>-0.016484</td>\n",
       "      <td>-0.040954</td>\n",
       "      <td>-0.261781</td>\n",
       "      <td>1.000000</td>\n",
       "      <td>0.098656</td>\n",
       "    </tr>\n",
       "    <tr>\n",
       "      <th>Calories</th>\n",
       "      <td>-0.031699</td>\n",
       "      <td>0.406301</td>\n",
       "      <td>0.389983</td>\n",
       "      <td>0.539326</td>\n",
       "      <td>0.611198</td>\n",
       "      <td>0.175988</td>\n",
       "      <td>0.113766</td>\n",
       "      <td>0.098656</td>\n",
       "      <td>1.000000</td>\n",
       "    </tr>\n",
       "  </tbody>\n",
       "</table>\n",
       "</div>"
      ],
      "text/plain": [
       "                      TotalMinutesAsleep  TotalSteps  TotalActiveMinutes  \\\n",
       "TotalMinutesAsleep              1.000000   -0.190344           -0.069294   \n",
       "TotalSteps                     -0.190344    1.000000            0.744648   \n",
       "TotalActiveMinutes             -0.069294    0.744648            1.000000   \n",
       "TotalExerciseMinutes           -0.181527    0.670820            0.372048   \n",
       "VeryActiveMinutes              -0.088127    0.543694            0.278751   \n",
       "FairlyActiveMinutes            -0.249208    0.568696            0.352228   \n",
       "LightlyActiveMinutes            0.027583    0.417457            0.855553   \n",
       "SedentaryMinutes               -0.601073   -0.130036           -0.262689   \n",
       "Calories                       -0.031699    0.406301            0.389983   \n",
       "\n",
       "                      TotalExerciseMinutes  VeryActiveMinutes  \\\n",
       "TotalMinutesAsleep               -0.181527          -0.088127   \n",
       "TotalSteps                        0.670820           0.543694   \n",
       "TotalActiveMinutes                0.372048           0.278751   \n",
       "TotalExerciseMinutes              1.000000           0.898613   \n",
       "VeryActiveMinutes                 0.898613           1.000000   \n",
       "FairlyActiveMinutes               0.705400           0.322896   \n",
       "LightlyActiveMinutes             -0.162243          -0.204874   \n",
       "SedentaryMinutes                 -0.031330          -0.016484   \n",
       "Calories                          0.539326           0.611198   \n",
       "\n",
       "                      FairlyActiveMinutes  LightlyActiveMinutes  \\\n",
       "TotalMinutesAsleep              -0.249208              0.027583   \n",
       "TotalSteps                       0.568696              0.417457   \n",
       "TotalActiveMinutes               0.352228              0.855553   \n",
       "TotalExerciseMinutes             0.705400             -0.162243   \n",
       "VeryActiveMinutes                0.322896             -0.204874   \n",
       "FairlyActiveMinutes              1.000000             -0.018999   \n",
       "LightlyActiveMinutes            -0.018999              1.000000   \n",
       "SedentaryMinutes                -0.040954             -0.261781   \n",
       "Calories                         0.175988              0.113766   \n",
       "\n",
       "                      SedentaryMinutes  Calories  \n",
       "TotalMinutesAsleep           -0.601073 -0.031699  \n",
       "TotalSteps                   -0.130036  0.406301  \n",
       "TotalActiveMinutes           -0.262689  0.389983  \n",
       "TotalExerciseMinutes         -0.031330  0.539326  \n",
       "VeryActiveMinutes            -0.016484  0.611198  \n",
       "FairlyActiveMinutes          -0.040954  0.175988  \n",
       "LightlyActiveMinutes         -0.261781  0.113766  \n",
       "SedentaryMinutes              1.000000  0.098656  \n",
       "Calories                      0.098656  1.000000  "
      ]
     },
     "execution_count": 35,
     "metadata": {},
     "output_type": "execute_result"
    }
   ],
   "source": [
    "# Is exercise related to sleep quality?\n",
    "correlation_matrix = daily_df[['TotalMinutesAsleep',\n",
    "                              'TotalSteps',\n",
    "                              'TotalActiveMinutes',\n",
    "                              'TotalExerciseMinutes',\n",
    "                              'VeryActiveMinutes',\n",
    "                              'FairlyActiveMinutes',\n",
    "                              'LightlyActiveMinutes',\n",
    "                              'SedentaryMinutes',\n",
    "                              'Calories']].corr()\n",
    "correlation_matrix"
   ]
  },
  {
   "cell_type": "markdown",
   "id": "ad65e0e0",
   "metadata": {
    "papermill": {
     "duration": 0.03227,
     "end_time": "2023-08-08T08:38:41.210477",
     "exception": false,
     "start_time": "2023-08-08T08:38:41.178207",
     "status": "completed"
    },
    "tags": []
   },
   "source": [
    "* *TotalMinutesAsleep* shows weak negative relationship with exercise time and activity time in general. \n",
    "* On the contrary, *SedentaryMinutes* has a high negative correlation with *TotalMinutesAsleep*.\n",
    "--> Exercises may not increase sleep quality, but keeping SedentaryMinutes low may increase sleep quality. Moreover, LightlyActiveMinutes has a positive correlation with TotalMinutesAsleep, suggesting that light walking may increase sleep quality. \n",
    "\n",
    "* *Calories* has quite high positive correlation with *ActiveMinutes* variables, with correlation coefficient of 0.41 for *TotalSteps*, 0.39 for *TotalActiveMinutes*, 0.54 for *TotalExerciseMinutes* and 0.61 for *VeryActiveMinutes*. This suggests that while Exercises in general help burns calories, Virgorous-Intensity exercises contributes the most to Calories burning."
   ]
  },
  {
   "cell_type": "code",
   "execution_count": 36,
   "id": "d84c1a13",
   "metadata": {
    "execution": {
     "iopub.execute_input": "2023-08-08T08:38:41.284590Z",
     "iopub.status.busy": "2023-08-08T08:38:41.283557Z",
     "iopub.status.idle": "2023-08-08T08:38:42.068695Z",
     "shell.execute_reply": "2023-08-08T08:38:42.067554Z"
    },
    "papermill": {
     "duration": 0.828113,
     "end_time": "2023-08-08T08:38:42.072095",
     "exception": false,
     "start_time": "2023-08-08T08:38:41.243982",
     "status": "completed"
    },
    "tags": []
   },
   "outputs": [
    {
     "data": {
      "text/plain": [
       "Text(0.5, 1.0, 'Correlation heatmap: Total Minutes Asleep vs. Active Time')"
      ]
     },
     "execution_count": 36,
     "metadata": {},
     "output_type": "execute_result"
    },
    {
     "data": {
      "image/png": "[encoded data removed]",
      "text/plain": [
       "<Figure size 640x480 with 2 Axes>"
      ]
     },
     "metadata": {},
     "output_type": "display_data"
    }
   ],
   "source": [
    "# Sleep correlation\n",
    "sns.heatmap(correlation_matrix, annot=True)\n",
    "plt.title('Correlation heatmap: Total Minutes Asleep vs. Active Time')"
   ]
  },
  {
   "cell_type": "code",
   "execution_count": 37,
   "id": "7d89db09",
   "metadata": {
    "execution": {
     "iopub.execute_input": "2023-08-08T08:38:42.144339Z",
     "iopub.status.busy": "2023-08-08T08:38:42.143954Z",
     "iopub.status.idle": "2023-08-08T08:38:42.537361Z",
     "shell.execute_reply": "2023-08-08T08:38:42.535959Z"
    },
    "papermill": {
     "duration": 0.43259,
     "end_time": "2023-08-08T08:38:42.539657",
     "exception": false,
     "start_time": "2023-08-08T08:38:42.107067",
     "status": "completed"
    },
    "tags": []
   },
   "outputs": [
    {
     "name": "stdout",
     "output_type": "stream",
     "text": [
      "Regression equation: TotalMinutesAsleep = -0.429108 * SedentaryMinutes + 724.740787\n",
      "R-squared = 0.3612889192653306\n"
     ]
    },
    {
     "data": {
      "image/png": "[encoded data removed]",
      "text/plain": [
       "<Figure size 640x480 with 1 Axes>"
      ]
     },
     "metadata": {},
     "output_type": "display_data"
    }
   ],
   "source": [
    "# Sleep vs. Sedentary Minutes\n",
    "plt.scatter(daily_df['SedentaryMinutes'], daily_df['TotalMinutesAsleep'], alpha = 0.7)\n",
    "plt.ylabel('TotalMinutesAleep')\n",
    "plt.xlabel('SedentaryMinutes')\n",
    "plt.title('TotalMinutesAsleep vs. SedentaryMinutes')\n",
    "\n",
    "# Add a trendline\n",
    "slope, intercept = np.polyfit(daily_df['SedentaryMinutes'],daily_df['TotalMinutesAsleep'],1)\n",
    "x_fit = np.array([min(daily_df['SedentaryMinutes']),\n",
    "                 max(daily_df['SedentaryMinutes'])])\n",
    "y_fit = slope*x_fit + intercept\n",
    "plt.plot(x_fit, y_fit, color = 'red', linewidth=2)\n",
    "print(f'Regression equation: TotalMinutesAsleep = {slope:2f} * SedentaryMinutes + {intercept:2f}')\n",
    "\n",
    "# Calculate R-squared\n",
    "MeanMinutesAsleep = daily_df['TotalMinutesAsleep'].mean()\n",
    "residual = daily_df['TotalMinutesAsleep'] - (slope * daily_df['SedentaryMinutes'] + intercept)\n",
    "SS_res = np.sum(residual**2)\n",
    "SS_tot = np.sum((daily_df['TotalMinutesAsleep'] - MeanMinutesAsleep)**2)\n",
    "R_squared = 1 - (SS_res/SS_tot)\n",
    "print('R-squared =', R_squared)"
   ]
  },
  {
   "cell_type": "markdown",
   "id": "1203e003",
   "metadata": {
    "papermill": {
     "duration": 0.037283,
     "end_time": "2023-08-08T08:38:42.613863",
     "exception": false,
     "start_time": "2023-08-08T08:38:42.576580",
     "status": "completed"
    },
    "tags": []
   },
   "source": [
    "* Correlation suggests that Sedentary time has a fair negative relationship with TotalTimeAsleep (-0.6)\n",
    "* Although SedentaryMinutes and TotalMinutesAsleep have a linear relationship, the regression line has a very low R-squared and can only explain 36% of change in TotalMinutesAsleep per 1 incremental value of SedentaryMinutes\n",
    "* The regression model suggest correlation, not causation. Moreover, small sample size (33 participants) caused prediction model to be inaccurate, hence cannot be used to predict the rate of sleep quality improvement as sedentary time decreases. At this point, I can only conclude that reducing sedentary may help improve sleep quality. \n",
    "\n",
    "To support this finding, I can perform a test so check whether people with lower sedentary has better sleep."
   ]
  },
  {
   "cell_type": "markdown",
   "id": "0974a262",
   "metadata": {
    "papermill": {
     "duration": 0.036469,
     "end_time": "2023-08-08T08:38:42.688416",
     "exception": false,
     "start_time": "2023-08-08T08:38:42.651947",
     "status": "completed"
    },
    "tags": []
   },
   "source": [
    "According to VeryWellHealth, [spending four to six waking hour sitting or lying is considered sedentary lifestyles](https://www.verywellhealth.com/how-to-beat-a-sedentary-lifestyle-2509611). Therefore, I assume that people with more than 6 hours (360 minutes) of SedentaryMinutes are *high* SedentaryLevel. On the contrary, those that have less than or equal to 6 hours of Sedentary belong to the *low* SedentaryLevel group."
   ]
  },
  {
   "cell_type": "code",
   "execution_count": 38,
   "id": "3e9b0792",
   "metadata": {
    "execution": {
     "iopub.execute_input": "2023-08-08T08:38:42.764271Z",
     "iopub.status.busy": "2023-08-08T08:38:42.763518Z",
     "iopub.status.idle": "2023-08-08T08:38:42.792932Z",
     "shell.execute_reply": "2023-08-08T08:38:42.791737Z"
    },
    "papermill": {
     "duration": 0.069263,
     "end_time": "2023-08-08T08:38:42.795370",
     "exception": false,
     "start_time": "2023-08-08T08:38:42.726107",
     "status": "completed"
    },
    "tags": []
   },
   "outputs": [
    {
     "data": {
      "text/html": [
       "<div>\n",
       "<style scoped>\n",
       "    .dataframe tbody tr th:only-of-type {\n",
       "        vertical-align: middle;\n",
       "    }\n",
       "\n",
       "    .dataframe tbody tr th {\n",
       "        vertical-align: top;\n",
       "    }\n",
       "\n",
       "    .dataframe thead th {\n",
       "        text-align: right;\n",
       "    }\n",
       "</style>\n",
       "<table border=\"1\" class=\"dataframe\">\n",
       "  <thead>\n",
       "    <tr style=\"text-align: right;\">\n",
       "      <th></th>\n",
       "      <th>Id</th>\n",
       "      <th>ActivityDate</th>\n",
       "      <th>TotalSteps</th>\n",
       "      <th>TotalDistance</th>\n",
       "      <th>TrackerDistance</th>\n",
       "      <th>LoggedActivitiesDistance</th>\n",
       "      <th>VeryActiveDistance</th>\n",
       "      <th>ModeratelyActiveDistance</th>\n",
       "      <th>LightActiveDistance</th>\n",
       "      <th>SedentaryActiveDistance</th>\n",
       "      <th>...</th>\n",
       "      <th>Date</th>\n",
       "      <th>SleepDay</th>\n",
       "      <th>TotalSleepRecords</th>\n",
       "      <th>TotalMinutesAsleep</th>\n",
       "      <th>TotalTimeInBed</th>\n",
       "      <th>Time</th>\n",
       "      <th>TotalExerciseMinutes</th>\n",
       "      <th>TotalActiveMinutes</th>\n",
       "      <th>DayOfWeek</th>\n",
       "      <th>SedentaryLevel</th>\n",
       "    </tr>\n",
       "  </thead>\n",
       "  <tbody>\n",
       "    <tr>\n",
       "      <th>0</th>\n",
       "      <td>1503960366</td>\n",
       "      <td>2016-04-12</td>\n",
       "      <td>13162</td>\n",
       "      <td>8.50</td>\n",
       "      <td>8.50</td>\n",
       "      <td>0.0</td>\n",
       "      <td>1.88</td>\n",
       "      <td>0.55</td>\n",
       "      <td>6.06</td>\n",
       "      <td>0.0</td>\n",
       "      <td>...</td>\n",
       "      <td>2016-04-12</td>\n",
       "      <td>2016-04-12</td>\n",
       "      <td>1</td>\n",
       "      <td>327</td>\n",
       "      <td>346</td>\n",
       "      <td>00:00:00</td>\n",
       "      <td>38</td>\n",
       "      <td>366</td>\n",
       "      <td>Tuesday</td>\n",
       "      <td>high</td>\n",
       "    </tr>\n",
       "    <tr>\n",
       "      <th>1</th>\n",
       "      <td>1503960366</td>\n",
       "      <td>2016-04-13</td>\n",
       "      <td>10735</td>\n",
       "      <td>6.97</td>\n",
       "      <td>6.97</td>\n",
       "      <td>0.0</td>\n",
       "      <td>1.57</td>\n",
       "      <td>0.69</td>\n",
       "      <td>4.71</td>\n",
       "      <td>0.0</td>\n",
       "      <td>...</td>\n",
       "      <td>2016-04-13</td>\n",
       "      <td>2016-04-13</td>\n",
       "      <td>2</td>\n",
       "      <td>384</td>\n",
       "      <td>407</td>\n",
       "      <td>00:00:00</td>\n",
       "      <td>40</td>\n",
       "      <td>257</td>\n",
       "      <td>Wednesday</td>\n",
       "      <td>high</td>\n",
       "    </tr>\n",
       "    <tr>\n",
       "      <th>2</th>\n",
       "      <td>1503960366</td>\n",
       "      <td>2016-04-15</td>\n",
       "      <td>9762</td>\n",
       "      <td>6.28</td>\n",
       "      <td>6.28</td>\n",
       "      <td>0.0</td>\n",
       "      <td>2.14</td>\n",
       "      <td>1.26</td>\n",
       "      <td>2.83</td>\n",
       "      <td>0.0</td>\n",
       "      <td>...</td>\n",
       "      <td>2016-04-15</td>\n",
       "      <td>2016-04-15</td>\n",
       "      <td>1</td>\n",
       "      <td>412</td>\n",
       "      <td>442</td>\n",
       "      <td>00:00:00</td>\n",
       "      <td>63</td>\n",
       "      <td>272</td>\n",
       "      <td>Friday</td>\n",
       "      <td>high</td>\n",
       "    </tr>\n",
       "    <tr>\n",
       "      <th>3</th>\n",
       "      <td>1503960366</td>\n",
       "      <td>2016-04-16</td>\n",
       "      <td>12669</td>\n",
       "      <td>8.16</td>\n",
       "      <td>8.16</td>\n",
       "      <td>0.0</td>\n",
       "      <td>2.71</td>\n",
       "      <td>0.41</td>\n",
       "      <td>5.04</td>\n",
       "      <td>0.0</td>\n",
       "      <td>...</td>\n",
       "      <td>2016-04-16</td>\n",
       "      <td>2016-04-16</td>\n",
       "      <td>2</td>\n",
       "      <td>340</td>\n",
       "      <td>367</td>\n",
       "      <td>00:00:00</td>\n",
       "      <td>46</td>\n",
       "      <td>267</td>\n",
       "      <td>Saturday</td>\n",
       "      <td>high</td>\n",
       "    </tr>\n",
       "    <tr>\n",
       "      <th>4</th>\n",
       "      <td>1503960366</td>\n",
       "      <td>2016-04-17</td>\n",
       "      <td>9705</td>\n",
       "      <td>6.48</td>\n",
       "      <td>6.48</td>\n",
       "      <td>0.0</td>\n",
       "      <td>3.19</td>\n",
       "      <td>0.78</td>\n",
       "      <td>2.51</td>\n",
       "      <td>0.0</td>\n",
       "      <td>...</td>\n",
       "      <td>2016-04-17</td>\n",
       "      <td>2016-04-17</td>\n",
       "      <td>1</td>\n",
       "      <td>700</td>\n",
       "      <td>712</td>\n",
       "      <td>00:00:00</td>\n",
       "      <td>58</td>\n",
       "      <td>222</td>\n",
       "      <td>Sunday</td>\n",
       "      <td>high</td>\n",
       "    </tr>\n",
       "  </tbody>\n",
       "</table>\n",
       "<p>5 rows × 25 columns</p>\n",
       "</div>"
      ],
      "text/plain": [
       "           Id ActivityDate  TotalSteps  TotalDistance  TrackerDistance  \\\n",
       "0  1503960366   2016-04-12       13162           8.50             8.50   \n",
       "1  1503960366   2016-04-13       10735           6.97             6.97   \n",
       "2  1503960366   2016-04-15        9762           6.28             6.28   \n",
       "3  1503960366   2016-04-16       12669           8.16             8.16   \n",
       "4  1503960366   2016-04-17        9705           6.48             6.48   \n",
       "\n",
       "   LoggedActivitiesDistance  VeryActiveDistance  ModeratelyActiveDistance  \\\n",
       "0                       0.0                1.88                      0.55   \n",
       "1                       0.0                1.57                      0.69   \n",
       "2                       0.0                2.14                      1.26   \n",
       "3                       0.0                2.71                      0.41   \n",
       "4                       0.0                3.19                      0.78   \n",
       "\n",
       "   LightActiveDistance  SedentaryActiveDistance  ...        Date   SleepDay  \\\n",
       "0                 6.06                      0.0  ...  2016-04-12 2016-04-12   \n",
       "1                 4.71                      0.0  ...  2016-04-13 2016-04-13   \n",
       "2                 2.83                      0.0  ...  2016-04-15 2016-04-15   \n",
       "3                 5.04                      0.0  ...  2016-04-16 2016-04-16   \n",
       "4                 2.51                      0.0  ...  2016-04-17 2016-04-17   \n",
       "\n",
       "   TotalSleepRecords  TotalMinutesAsleep  TotalTimeInBed      Time  \\\n",
       "0                  1                 327             346  00:00:00   \n",
       "1                  2                 384             407  00:00:00   \n",
       "2                  1                 412             442  00:00:00   \n",
       "3                  2                 340             367  00:00:00   \n",
       "4                  1                 700             712  00:00:00   \n",
       "\n",
       "  TotalExerciseMinutes  TotalActiveMinutes  DayOfWeek  SedentaryLevel  \n",
       "0                   38                 366    Tuesday            high  \n",
       "1                   40                 257  Wednesday            high  \n",
       "2                   63                 272     Friday            high  \n",
       "3                   46                 267   Saturday            high  \n",
       "4                   58                 222     Sunday            high  \n",
       "\n",
       "[5 rows x 25 columns]"
      ]
     },
     "execution_count": 38,
     "metadata": {},
     "output_type": "execute_result"
    }
   ],
   "source": [
    "# Add SedentaryLevel colum\n",
    "daily_df['SedentaryLevel'] = daily_df['SedentaryMinutes'].apply(lambda x: 'high' if x > 360 else 'low')\n",
    "daily_df.head()"
   ]
  },
  {
   "cell_type": "code",
   "execution_count": 39,
   "id": "771bf3ab",
   "metadata": {
    "execution": {
     "iopub.execute_input": "2023-08-08T08:38:42.873146Z",
     "iopub.status.busy": "2023-08-08T08:38:42.872724Z",
     "iopub.status.idle": "2023-08-08T08:38:43.896827Z",
     "shell.execute_reply": "2023-08-08T08:38:43.895422Z"
    },
    "papermill": {
     "duration": 1.067067,
     "end_time": "2023-08-08T08:38:43.900412",
     "exception": false,
     "start_time": "2023-08-08T08:38:42.833345",
     "status": "completed"
    },
    "tags": []
   },
   "outputs": [
    {
     "name": "stderr",
     "output_type": "stream",
     "text": [
      "/opt/conda/lib/python3.10/site-packages/seaborn/axisgrid.py:118: UserWarning: The figure layout has changed to tight\n",
      "  self._figure.tight_layout(*args, **kwargs)\n"
     ]
    },
    {
     "data": {
      "text/plain": [
       "Text(0.5, 1.0, 'SedentaryMinutes vs. TotalMinutesAsleep by SedentaryLevel')"
      ]
     },
     "execution_count": 39,
     "metadata": {},
     "output_type": "execute_result"
    },
    {
     "data": {
      "image/png": "[encoded data removed]",
      "text/plain": [
       "<Figure size 619.236x500 with 1 Axes>"
      ]
     },
     "metadata": {},
     "output_type": "display_data"
    }
   ],
   "source": [
    "# Plot a scatter plot with trendlines for each Sedentary Level\n",
    "color_map = {'low':'blue', 'high':'red'}\n",
    "sns.lmplot(data=daily_df, x='SedentaryMinutes', y='TotalMinutesAsleep', hue='SedentaryLevel', palette=color_map, scatter_kws={'alpha':0.5})\n",
    "plt.title('SedentaryMinutes vs. TotalMinutesAsleep by SedentaryLevel')"
   ]
  },
  {
   "cell_type": "markdown",
   "id": "93151579",
   "metadata": {
    "papermill": {
     "duration": 0.038351,
     "end_time": "2023-08-08T08:38:43.979479",
     "exception": false,
     "start_time": "2023-08-08T08:38:43.941128",
     "status": "completed"
    },
    "tags": []
   },
   "source": [
    "* As clearly shown on the chart, people with high sedentary level have their TotalMinutesAsleep shrinking as SedentaryMinutes increase, which is correspondent to regression equation.\n",
    "* Interestingly, people with low sedentary level also have their TotalMinutesAsleep increase along with SedentaryMinutes. However, this finding falls under population bias as there are only few cases fall into this category, 2 of which has 0 SedentaryMinutes which is unrealistic."
   ]
  },
  {
   "cell_type": "markdown",
   "id": "d9132f61",
   "metadata": {
    "papermill": {
     "duration": 0.038362,
     "end_time": "2023-08-08T08:38:44.056225",
     "exception": false,
     "start_time": "2023-08-08T08:38:44.017863",
     "status": "completed"
    },
    "tags": []
   },
   "source": [
    "**5.3. Explore hourly data** <a id='explore-hourly-data'></a>\n",
    "\n",
    "[Back to Table of Contents](#Table-of-Contents)"
   ]
  },
  {
   "cell_type": "markdown",
   "id": "a566d864",
   "metadata": {
    "papermill": {
     "duration": 0.037823,
     "end_time": "2023-08-08T08:38:44.132066",
     "exception": false,
     "start_time": "2023-08-08T08:38:44.094243",
     "status": "completed"
    },
    "tags": []
   },
   "source": [
    "As daily_df records calories burned and intensity level by the hour, I can use this data to explore further the relationship between Activity Intensity and Calories burned."
   ]
  },
  {
   "cell_type": "code",
   "execution_count": 40,
   "id": "9b7d5436",
   "metadata": {
    "execution": {
     "iopub.execute_input": "2023-08-08T08:38:44.209600Z",
     "iopub.status.busy": "2023-08-08T08:38:44.209224Z",
     "iopub.status.idle": "2023-08-08T08:38:44.240680Z",
     "shell.execute_reply": "2023-08-08T08:38:44.239510Z"
    },
    "papermill": {
     "duration": 0.072799,
     "end_time": "2023-08-08T08:38:44.242914",
     "exception": false,
     "start_time": "2023-08-08T08:38:44.170115",
     "status": "completed"
    },
    "tags": []
   },
   "outputs": [
    {
     "data": {
      "text/html": [
       "<div>\n",
       "<style scoped>\n",
       "    .dataframe tbody tr th:only-of-type {\n",
       "        vertical-align: middle;\n",
       "    }\n",
       "\n",
       "    .dataframe tbody tr th {\n",
       "        vertical-align: top;\n",
       "    }\n",
       "\n",
       "    .dataframe thead th {\n",
       "        text-align: right;\n",
       "    }\n",
       "</style>\n",
       "<table border=\"1\" class=\"dataframe\">\n",
       "  <thead>\n",
       "    <tr style=\"text-align: right;\">\n",
       "      <th></th>\n",
       "      <th>Id</th>\n",
       "      <th>Calories</th>\n",
       "      <th>TotalIntensity</th>\n",
       "      <th>AverageIntensity</th>\n",
       "      <th>StepTotal</th>\n",
       "    </tr>\n",
       "  </thead>\n",
       "  <tbody>\n",
       "    <tr>\n",
       "      <th>count</th>\n",
       "      <td>2.209900e+04</td>\n",
       "      <td>22099.000000</td>\n",
       "      <td>22099.000000</td>\n",
       "      <td>22099.000000</td>\n",
       "      <td>22099.000000</td>\n",
       "    </tr>\n",
       "    <tr>\n",
       "      <th>mean</th>\n",
       "      <td>4.848235e+09</td>\n",
       "      <td>97.386760</td>\n",
       "      <td>12.035341</td>\n",
       "      <td>0.200589</td>\n",
       "      <td>320.166342</td>\n",
       "    </tr>\n",
       "    <tr>\n",
       "      <th>std</th>\n",
       "      <td>2.422500e+09</td>\n",
       "      <td>60.702622</td>\n",
       "      <td>21.133110</td>\n",
       "      <td>0.352219</td>\n",
       "      <td>690.384228</td>\n",
       "    </tr>\n",
       "    <tr>\n",
       "      <th>min</th>\n",
       "      <td>1.503960e+09</td>\n",
       "      <td>42.000000</td>\n",
       "      <td>0.000000</td>\n",
       "      <td>0.000000</td>\n",
       "      <td>0.000000</td>\n",
       "    </tr>\n",
       "    <tr>\n",
       "      <th>25%</th>\n",
       "      <td>2.320127e+09</td>\n",
       "      <td>63.000000</td>\n",
       "      <td>0.000000</td>\n",
       "      <td>0.000000</td>\n",
       "      <td>0.000000</td>\n",
       "    </tr>\n",
       "    <tr>\n",
       "      <th>50%</th>\n",
       "      <td>4.445115e+09</td>\n",
       "      <td>83.000000</td>\n",
       "      <td>3.000000</td>\n",
       "      <td>0.050000</td>\n",
       "      <td>40.000000</td>\n",
       "    </tr>\n",
       "    <tr>\n",
       "      <th>75%</th>\n",
       "      <td>6.962181e+09</td>\n",
       "      <td>108.000000</td>\n",
       "      <td>16.000000</td>\n",
       "      <td>0.266667</td>\n",
       "      <td>357.000000</td>\n",
       "    </tr>\n",
       "    <tr>\n",
       "      <th>max</th>\n",
       "      <td>8.877689e+09</td>\n",
       "      <td>948.000000</td>\n",
       "      <td>180.000000</td>\n",
       "      <td>3.000000</td>\n",
       "      <td>10554.000000</td>\n",
       "    </tr>\n",
       "  </tbody>\n",
       "</table>\n",
       "</div>"
      ],
      "text/plain": [
       "                 Id      Calories  TotalIntensity  AverageIntensity  \\\n",
       "count  2.209900e+04  22099.000000    22099.000000      22099.000000   \n",
       "mean   4.848235e+09     97.386760       12.035341          0.200589   \n",
       "std    2.422500e+09     60.702622       21.133110          0.352219   \n",
       "min    1.503960e+09     42.000000        0.000000          0.000000   \n",
       "25%    2.320127e+09     63.000000        0.000000          0.000000   \n",
       "50%    4.445115e+09     83.000000        3.000000          0.050000   \n",
       "75%    6.962181e+09    108.000000       16.000000          0.266667   \n",
       "max    8.877689e+09    948.000000      180.000000          3.000000   \n",
       "\n",
       "          StepTotal  \n",
       "count  22099.000000  \n",
       "mean     320.166342  \n",
       "std      690.384228  \n",
       "min        0.000000  \n",
       "25%        0.000000  \n",
       "50%       40.000000  \n",
       "75%      357.000000  \n",
       "max    10554.000000  "
      ]
     },
     "execution_count": 40,
     "metadata": {},
     "output_type": "execute_result"
    }
   ],
   "source": [
    "hourly_df.head()\n",
    "hourly_df.describe()"
   ]
  },
  {
   "cell_type": "markdown",
   "id": "7008c0f5",
   "metadata": {
    "papermill": {
     "duration": 0.037994,
     "end_time": "2023-08-08T08:38:44.319027",
     "exception": false,
     "start_time": "2023-08-08T08:38:44.281033",
     "status": "completed"
    },
    "tags": []
   },
   "source": [
    "* Mean Calories burned is 97, while max is 948 and min is 42. This huge gap could be caused by outliners.\n",
    "* Max StepTotal is 10554 while min is only 320, this indicates an intensive training or unsual activity."
   ]
  },
  {
   "cell_type": "code",
   "execution_count": 41,
   "id": "9e95efe9",
   "metadata": {
    "execution": {
     "iopub.execute_input": "2023-08-08T08:38:44.401254Z",
     "iopub.status.busy": "2023-08-08T08:38:44.400533Z",
     "iopub.status.idle": "2023-08-08T08:38:44.791444Z",
     "shell.execute_reply": "2023-08-08T08:38:44.790265Z"
    },
    "papermill": {
     "duration": 0.435854,
     "end_time": "2023-08-08T08:38:44.793954",
     "exception": false,
     "start_time": "2023-08-08T08:38:44.358100",
     "status": "completed"
    },
    "tags": []
   },
   "outputs": [
    {
     "data": {
      "text/plain": [
       "Text(0.5, 1.0, 'Correlation: Calories vs. TotalIntensity vs. StepTotal')"
      ]
     },
     "execution_count": 41,
     "metadata": {},
     "output_type": "execute_result"
    },
    {
     "data": {
      "image/png": "[encoded data removed]",
      "text/plain": [
       "<Figure size 640x480 with 2 Axes>"
      ]
     },
     "metadata": {},
     "output_type": "display_data"
    }
   ],
   "source": [
    "# How calories be affected by ActivityIntensity?\n",
    "\n",
    "hourly_corr = hourly_df[['Calories',\n",
    "                      'TotalIntensity',\n",
    "                      'StepTotal']].corr()\n",
    "sns.heatmap(hourly_corr, annot=True)\n",
    "plt.title('Correlation: Calories vs. TotalIntensity vs. StepTotal')"
   ]
  },
  {
   "cell_type": "markdown",
   "id": "14c98bea",
   "metadata": {
    "papermill": {
     "duration": 0.038693,
     "end_time": "2023-08-08T08:38:44.872212",
     "exception": false,
     "start_time": "2023-08-08T08:38:44.833519",
     "status": "completed"
    },
    "tags": []
   },
   "source": [
    "* Both *Intensity* and *StepTotal* have high positive correlation with *Calories* (0.81)\n",
    "* *TotalIntensity* ranges from 0 to 180. Assume that TotalIntensity from 0 to 60 are *low* in IntensityLevel, 61 to 120 are *medium* in IntensityLevel, and from 121 to 180 are *high* IntensityLevel."
   ]
  },
  {
   "cell_type": "code",
   "execution_count": 42,
   "id": "d3aef3af",
   "metadata": {
    "execution": {
     "iopub.execute_input": "2023-08-08T08:38:44.953544Z",
     "iopub.status.busy": "2023-08-08T08:38:44.952218Z",
     "iopub.status.idle": "2023-08-08T08:38:44.976640Z",
     "shell.execute_reply": "2023-08-08T08:38:44.975871Z"
    },
    "papermill": {
     "duration": 0.067374,
     "end_time": "2023-08-08T08:38:44.979009",
     "exception": false,
     "start_time": "2023-08-08T08:38:44.911635",
     "status": "completed"
    },
    "tags": []
   },
   "outputs": [
    {
     "data": {
      "text/html": [
       "<div>\n",
       "<style scoped>\n",
       "    .dataframe tbody tr th:only-of-type {\n",
       "        vertical-align: middle;\n",
       "    }\n",
       "\n",
       "    .dataframe tbody tr th {\n",
       "        vertical-align: top;\n",
       "    }\n",
       "\n",
       "    .dataframe thead th {\n",
       "        text-align: right;\n",
       "    }\n",
       "</style>\n",
       "<table border=\"1\" class=\"dataframe\">\n",
       "  <thead>\n",
       "    <tr style=\"text-align: right;\">\n",
       "      <th></th>\n",
       "      <th>Id</th>\n",
       "      <th>ActivityHour</th>\n",
       "      <th>Calories</th>\n",
       "      <th>Date</th>\n",
       "      <th>Time</th>\n",
       "      <th>TotalIntensity</th>\n",
       "      <th>AverageIntensity</th>\n",
       "      <th>StepTotal</th>\n",
       "      <th>IntensityLevel</th>\n",
       "    </tr>\n",
       "  </thead>\n",
       "  <tbody>\n",
       "    <tr>\n",
       "      <th>0</th>\n",
       "      <td>1503960366</td>\n",
       "      <td>2016-04-12 00:00:00</td>\n",
       "      <td>81</td>\n",
       "      <td>2016-04-12</td>\n",
       "      <td>00:00:00</td>\n",
       "      <td>20</td>\n",
       "      <td>0.333333</td>\n",
       "      <td>373</td>\n",
       "      <td>low</td>\n",
       "    </tr>\n",
       "    <tr>\n",
       "      <th>1</th>\n",
       "      <td>1503960366</td>\n",
       "      <td>2016-04-12 01:00:00</td>\n",
       "      <td>61</td>\n",
       "      <td>2016-04-12</td>\n",
       "      <td>01:00:00</td>\n",
       "      <td>8</td>\n",
       "      <td>0.133333</td>\n",
       "      <td>160</td>\n",
       "      <td>low</td>\n",
       "    </tr>\n",
       "    <tr>\n",
       "      <th>2</th>\n",
       "      <td>1503960366</td>\n",
       "      <td>2016-04-12 02:00:00</td>\n",
       "      <td>59</td>\n",
       "      <td>2016-04-12</td>\n",
       "      <td>02:00:00</td>\n",
       "      <td>7</td>\n",
       "      <td>0.116667</td>\n",
       "      <td>151</td>\n",
       "      <td>low</td>\n",
       "    </tr>\n",
       "    <tr>\n",
       "      <th>3</th>\n",
       "      <td>1503960366</td>\n",
       "      <td>2016-04-12 03:00:00</td>\n",
       "      <td>47</td>\n",
       "      <td>2016-04-12</td>\n",
       "      <td>03:00:00</td>\n",
       "      <td>0</td>\n",
       "      <td>0.000000</td>\n",
       "      <td>0</td>\n",
       "      <td>low</td>\n",
       "    </tr>\n",
       "    <tr>\n",
       "      <th>4</th>\n",
       "      <td>1503960366</td>\n",
       "      <td>2016-04-12 04:00:00</td>\n",
       "      <td>48</td>\n",
       "      <td>2016-04-12</td>\n",
       "      <td>04:00:00</td>\n",
       "      <td>0</td>\n",
       "      <td>0.000000</td>\n",
       "      <td>0</td>\n",
       "      <td>low</td>\n",
       "    </tr>\n",
       "  </tbody>\n",
       "</table>\n",
       "</div>"
      ],
      "text/plain": [
       "           Id        ActivityHour  Calories        Date      Time  \\\n",
       "0  1503960366 2016-04-12 00:00:00        81  2016-04-12  00:00:00   \n",
       "1  1503960366 2016-04-12 01:00:00        61  2016-04-12  01:00:00   \n",
       "2  1503960366 2016-04-12 02:00:00        59  2016-04-12  02:00:00   \n",
       "3  1503960366 2016-04-12 03:00:00        47  2016-04-12  03:00:00   \n",
       "4  1503960366 2016-04-12 04:00:00        48  2016-04-12  04:00:00   \n",
       "\n",
       "   TotalIntensity  AverageIntensity  StepTotal IntensityLevel  \n",
       "0              20          0.333333        373            low  \n",
       "1               8          0.133333        160            low  \n",
       "2               7          0.116667        151            low  \n",
       "3               0          0.000000          0            low  \n",
       "4               0          0.000000          0            low  "
      ]
     },
     "execution_count": 42,
     "metadata": {},
     "output_type": "execute_result"
    }
   ],
   "source": [
    "# Add IntensityLevel\n",
    "hourly_df['IntensityLevel'] = hourly_df['TotalIntensity'].apply(lambda x:'low' if x <= 60 else ('medium' if 60 < x <= 120 else 'high'))\n",
    "hourly_df.head()"
   ]
  },
  {
   "cell_type": "code",
   "execution_count": 43,
   "id": "46550158",
   "metadata": {
    "execution": {
     "iopub.execute_input": "2023-08-08T08:38:45.062090Z",
     "iopub.status.busy": "2023-08-08T08:38:45.061405Z",
     "iopub.status.idle": "2023-08-08T08:38:47.041544Z",
     "shell.execute_reply": "2023-08-08T08:38:47.040688Z"
    },
    "papermill": {
     "duration": 2.024268,
     "end_time": "2023-08-08T08:38:47.044815",
     "exception": false,
     "start_time": "2023-08-08T08:38:45.020547",
     "status": "completed"
    },
    "tags": []
   },
   "outputs": [
    {
     "name": "stdout",
     "output_type": "stream",
     "text": [
      "Regression Equation: Calories = 0.071657 * StepTotal + 74.444679\n",
      "R-Squared = 0.664173\n"
     ]
    },
    {
     "data": {
      "image/png": "[encoded data removed]",
      "text/plain": [
       "<Figure size 1000x500 with 1 Axes>"
      ]
     },
     "metadata": {},
     "output_type": "display_data"
    }
   ],
   "source": [
    "# Plot it on a chart for further visualization\n",
    "plt.figure(figsize = (10,5))\n",
    "sns.scatterplot(data=hourly_df, x='StepTotal', y='Calories', hue='IntensityLevel')\n",
    "plt.title('Calories Burned vs. StepTotal Separated by IntensityLevel')\n",
    "\n",
    "# Add a trendline\n",
    "slope, intercept = np.polyfit(hourly_df['StepTotal'], hourly_df['Calories'],1)\n",
    "x_fit = np.array([min(hourly_df['StepTotal']), max(hourly_df['StepTotal'])])\n",
    "y_fit = slope*x_fit + intercept\n",
    "plt.plot(x_fit, y_fit, color='orangered', linewidth=2)\n",
    "print(f'Regression Equation: Calories = {slope:2f} * StepTotal + {intercept:2f}')\n",
    "\n",
    "# Calculate R-squared\n",
    "MeanCalories = hourly_df['Calories'].mean()\n",
    "residual = hourly_df['Calories'] - (slope*hourly_df['StepTotal'] + intercept)\n",
    "SS_res = np.sum(residual**2)\n",
    "SS_tot = np.sum((hourly_df['Calories'] - MeanCalories)**2)\n",
    "R_squared = 1 - (SS_res/SS_tot)\n",
    "print(f'R-Squared = {R_squared:2f}')"
   ]
  },
  {
   "cell_type": "markdown",
   "id": "98a3d1c0",
   "metadata": {
    "papermill": {
     "duration": 0.042183,
     "end_time": "2023-08-08T08:38:47.129298",
     "exception": false,
     "start_time": "2023-08-08T08:38:47.087115",
     "status": "completed"
    },
    "tags": []
   },
   "source": [
    "* The equation has R-squared of 0.66, meaning that 66 percent of changes in Calories can be explained by 1 incremental change in TotalSteps. Although R-squared is not very high, it is somewhat reliable to predict changes in Calories. Walking 10,000 step daily can help burn up to 791 Calories.\n",
    "\n",
    "* There are moment when users burned calories without taking additional steps or with very little steps, suggesting that users are doing virgorous-intensity exercise such as weight-lifting or swimming. However, the most calories burned are still earned through walking (66%) as intensity level also increases along side with StepTotal."
   ]
  },
  {
   "cell_type": "code",
   "execution_count": 44,
   "id": "534dfbe8",
   "metadata": {
    "execution": {
     "iopub.execute_input": "2023-08-08T08:38:47.216202Z",
     "iopub.status.busy": "2023-08-08T08:38:47.215796Z",
     "iopub.status.idle": "2023-08-08T08:38:47.243197Z",
     "shell.execute_reply": "2023-08-08T08:38:47.242292Z"
    },
    "papermill": {
     "duration": 0.074367,
     "end_time": "2023-08-08T08:38:47.245916",
     "exception": false,
     "start_time": "2023-08-08T08:38:47.171549",
     "status": "completed"
    },
    "tags": []
   },
   "outputs": [
    {
     "name": "stderr",
     "output_type": "stream",
     "text": [
      "/tmp/ipykernel_20/1865268520.py:3: FutureWarning: Indexing with multiple keys (implicitly converted to a tuple of keys) will be deprecated, use a list instead.\n",
      "  hourly_sum = hourly_df.groupby('Time')['Calories',\n"
     ]
    },
    {
     "data": {
      "text/html": [
       "<div>\n",
       "<style scoped>\n",
       "    .dataframe tbody tr th:only-of-type {\n",
       "        vertical-align: middle;\n",
       "    }\n",
       "\n",
       "    .dataframe tbody tr th {\n",
       "        vertical-align: top;\n",
       "    }\n",
       "\n",
       "    .dataframe thead th {\n",
       "        text-align: right;\n",
       "    }\n",
       "</style>\n",
       "<table border=\"1\" class=\"dataframe\">\n",
       "  <thead>\n",
       "    <tr style=\"text-align: right;\">\n",
       "      <th></th>\n",
       "      <th>Time</th>\n",
       "      <th>Calories</th>\n",
       "      <th>TotalIntensity</th>\n",
       "      <th>StepTotal</th>\n",
       "    </tr>\n",
       "  </thead>\n",
       "  <tbody>\n",
       "    <tr>\n",
       "      <th>0</th>\n",
       "      <td>00:00:00</td>\n",
       "      <td>71.805139</td>\n",
       "      <td>2.129550</td>\n",
       "      <td>42.188437</td>\n",
       "    </tr>\n",
       "    <tr>\n",
       "      <th>1</th>\n",
       "      <td>01:00:00</td>\n",
       "      <td>70.165059</td>\n",
       "      <td>1.419078</td>\n",
       "      <td>23.102894</td>\n",
       "    </tr>\n",
       "    <tr>\n",
       "      <th>2</th>\n",
       "      <td>02:00:00</td>\n",
       "      <td>69.186495</td>\n",
       "      <td>1.043944</td>\n",
       "      <td>17.110397</td>\n",
       "    </tr>\n",
       "    <tr>\n",
       "      <th>3</th>\n",
       "      <td>03:00:00</td>\n",
       "      <td>67.538049</td>\n",
       "      <td>0.443730</td>\n",
       "      <td>6.426581</td>\n",
       "    </tr>\n",
       "    <tr>\n",
       "      <th>4</th>\n",
       "      <td>04:00:00</td>\n",
       "      <td>68.261803</td>\n",
       "      <td>0.633047</td>\n",
       "      <td>12.699571</td>\n",
       "    </tr>\n",
       "    <tr>\n",
       "      <th>5</th>\n",
       "      <td>05:00:00</td>\n",
       "      <td>81.708155</td>\n",
       "      <td>4.950644</td>\n",
       "      <td>43.869099</td>\n",
       "    </tr>\n",
       "    <tr>\n",
       "      <th>6</th>\n",
       "      <td>06:00:00</td>\n",
       "      <td>86.996778</td>\n",
       "      <td>7.771214</td>\n",
       "      <td>178.508056</td>\n",
       "    </tr>\n",
       "    <tr>\n",
       "      <th>7</th>\n",
       "      <td>07:00:00</td>\n",
       "      <td>94.477981</td>\n",
       "      <td>10.733620</td>\n",
       "      <td>306.049409</td>\n",
       "    </tr>\n",
       "    <tr>\n",
       "      <th>8</th>\n",
       "      <td>08:00:00</td>\n",
       "      <td>103.337272</td>\n",
       "      <td>14.668099</td>\n",
       "      <td>427.544576</td>\n",
       "    </tr>\n",
       "    <tr>\n",
       "      <th>9</th>\n",
       "      <td>09:00:00</td>\n",
       "      <td>106.142857</td>\n",
       "      <td>15.387755</td>\n",
       "      <td>433.301826</td>\n",
       "    </tr>\n",
       "    <tr>\n",
       "      <th>10</th>\n",
       "      <td>10:00:00</td>\n",
       "      <td>110.460710</td>\n",
       "      <td>17.643703</td>\n",
       "      <td>481.665231</td>\n",
       "    </tr>\n",
       "    <tr>\n",
       "      <th>11</th>\n",
       "      <td>11:00:00</td>\n",
       "      <td>109.806904</td>\n",
       "      <td>16.921251</td>\n",
       "      <td>456.886731</td>\n",
       "    </tr>\n",
       "    <tr>\n",
       "      <th>12</th>\n",
       "      <td>12:00:00</td>\n",
       "      <td>117.197397</td>\n",
       "      <td>19.847072</td>\n",
       "      <td>548.642082</td>\n",
       "    </tr>\n",
       "    <tr>\n",
       "      <th>13</th>\n",
       "      <td>13:00:00</td>\n",
       "      <td>115.309446</td>\n",
       "      <td>18.775244</td>\n",
       "      <td>537.698154</td>\n",
       "    </tr>\n",
       "    <tr>\n",
       "      <th>14</th>\n",
       "      <td>14:00:00</td>\n",
       "      <td>115.732899</td>\n",
       "      <td>18.868621</td>\n",
       "      <td>540.513572</td>\n",
       "    </tr>\n",
       "    <tr>\n",
       "      <th>15</th>\n",
       "      <td>15:00:00</td>\n",
       "      <td>106.637158</td>\n",
       "      <td>15.584699</td>\n",
       "      <td>406.319126</td>\n",
       "    </tr>\n",
       "    <tr>\n",
       "      <th>16</th>\n",
       "      <td>16:00:00</td>\n",
       "      <td>113.327453</td>\n",
       "      <td>17.716648</td>\n",
       "      <td>496.845645</td>\n",
       "    </tr>\n",
       "    <tr>\n",
       "      <th>17</th>\n",
       "      <td>17:00:00</td>\n",
       "      <td>122.752759</td>\n",
       "      <td>21.655629</td>\n",
       "      <td>550.232892</td>\n",
       "    </tr>\n",
       "    <tr>\n",
       "      <th>18</th>\n",
       "      <td>18:00:00</td>\n",
       "      <td>123.492274</td>\n",
       "      <td>21.921634</td>\n",
       "      <td>599.169978</td>\n",
       "    </tr>\n",
       "    <tr>\n",
       "      <th>19</th>\n",
       "      <td>19:00:00</td>\n",
       "      <td>121.484547</td>\n",
       "      <td>21.385210</td>\n",
       "      <td>583.390728</td>\n",
       "    </tr>\n",
       "    <tr>\n",
       "      <th>20</th>\n",
       "      <td>20:00:00</td>\n",
       "      <td>102.357616</td>\n",
       "      <td>14.339956</td>\n",
       "      <td>353.905077</td>\n",
       "    </tr>\n",
       "    <tr>\n",
       "      <th>21</th>\n",
       "      <td>21:00:00</td>\n",
       "      <td>96.056354</td>\n",
       "      <td>12.072928</td>\n",
       "      <td>308.138122</td>\n",
       "    </tr>\n",
       "    <tr>\n",
       "      <th>22</th>\n",
       "      <td>22:00:00</td>\n",
       "      <td>88.265487</td>\n",
       "      <td>9.063053</td>\n",
       "      <td>237.987832</td>\n",
       "    </tr>\n",
       "    <tr>\n",
       "      <th>23</th>\n",
       "      <td>23:00:00</td>\n",
       "      <td>77.593577</td>\n",
       "      <td>4.996678</td>\n",
       "      <td>122.132890</td>\n",
       "    </tr>\n",
       "  </tbody>\n",
       "</table>\n",
       "</div>"
      ],
      "text/plain": [
       "        Time    Calories  TotalIntensity   StepTotal\n",
       "0   00:00:00   71.805139        2.129550   42.188437\n",
       "1   01:00:00   70.165059        1.419078   23.102894\n",
       "2   02:00:00   69.186495        1.043944   17.110397\n",
       "3   03:00:00   67.538049        0.443730    6.426581\n",
       "4   04:00:00   68.261803        0.633047   12.699571\n",
       "5   05:00:00   81.708155        4.950644   43.869099\n",
       "6   06:00:00   86.996778        7.771214  178.508056\n",
       "7   07:00:00   94.477981       10.733620  306.049409\n",
       "8   08:00:00  103.337272       14.668099  427.544576\n",
       "9   09:00:00  106.142857       15.387755  433.301826\n",
       "10  10:00:00  110.460710       17.643703  481.665231\n",
       "11  11:00:00  109.806904       16.921251  456.886731\n",
       "12  12:00:00  117.197397       19.847072  548.642082\n",
       "13  13:00:00  115.309446       18.775244  537.698154\n",
       "14  14:00:00  115.732899       18.868621  540.513572\n",
       "15  15:00:00  106.637158       15.584699  406.319126\n",
       "16  16:00:00  113.327453       17.716648  496.845645\n",
       "17  17:00:00  122.752759       21.655629  550.232892\n",
       "18  18:00:00  123.492274       21.921634  599.169978\n",
       "19  19:00:00  121.484547       21.385210  583.390728\n",
       "20  20:00:00  102.357616       14.339956  353.905077\n",
       "21  21:00:00   96.056354       12.072928  308.138122\n",
       "22  22:00:00   88.265487        9.063053  237.987832\n",
       "23  23:00:00   77.593577        4.996678  122.132890"
      ]
     },
     "execution_count": 44,
     "metadata": {},
     "output_type": "execute_result"
    }
   ],
   "source": [
    "# During what time do users burn the most calories?\n",
    "# Aggregate data by hour\n",
    "hourly_sum = hourly_df.groupby('Time')['Calories',\n",
    "                                      'TotalIntensity',\n",
    "                                      'StepTotal'].mean().reset_index()\n",
    "hourly_sum"
   ]
  },
  {
   "cell_type": "code",
   "execution_count": 45,
   "id": "f453c6c6",
   "metadata": {
    "execution": {
     "iopub.execute_input": "2023-08-08T08:38:47.334698Z",
     "iopub.status.busy": "2023-08-08T08:38:47.334055Z",
     "iopub.status.idle": "2023-08-08T08:38:49.249170Z",
     "shell.execute_reply": "2023-08-08T08:38:49.248014Z"
    },
    "papermill": {
     "duration": 1.962556,
     "end_time": "2023-08-08T08:38:49.251610",
     "exception": false,
     "start_time": "2023-08-08T08:38:47.289054",
     "status": "completed"
    },
    "tags": []
   },
   "outputs": [
    {
     "name": "stderr",
     "output_type": "stream",
     "text": [
      "/opt/conda/lib/python3.10/site-packages/seaborn/axisgrid.py:118: UserWarning: The figure layout has changed to tight\n",
      "  self._figure.tight_layout(*args, **kwargs)\n"
     ]
    },
    {
     "data": {
      "text/plain": [
       "<seaborn.axisgrid.FacetGrid at 0x7874b580f910>"
      ]
     },
     "execution_count": 45,
     "metadata": {},
     "output_type": "execute_result"
    },
    {
     "data": {
      "image/png": "[encoded data removed]",
      "text/plain": [
       "<Figure size 1500x500 with 3 Axes>"
      ]
     },
     "metadata": {},
     "output_type": "display_data"
    }
   ],
   "source": [
    "# Plot it on a chart\n",
    "\n",
    "# Melt data for better visualization\n",
    "melted_df = pd.melt(hourly_sum, \n",
    "                    id_vars='Time', \n",
    "                    value_vars=['Calories','TotalIntensity','StepTotal'],\n",
    "                    var_name='Metrics',\n",
    "                    value_name='Value')\n",
    "\n",
    "# Barplots with facet grid\n",
    "p = sns.FacetGrid(melted_df, col='Metrics', col_wrap=3, height=5, sharey=False)\n",
    "p.map_dataframe(sns.barplot, x='Time', y='Value', color='teal')\n",
    "p.set_titles(col_template='{col_name}')\n",
    "p.set_axis_labels('Time','Value')\n",
    "p.set_xticklabels(rotation=90)"
   ]
  },
  {
   "cell_type": "markdown",
   "id": "b0aee390",
   "metadata": {
    "papermill": {
     "duration": 0.045448,
     "end_time": "2023-08-08T08:38:49.341227",
     "exception": false,
     "start_time": "2023-08-08T08:38:49.295779",
     "status": "completed"
    },
    "tags": []
   },
   "source": [
    "* The most active time is from 5PM to 7PM, with highest calories burned along with highest intensity and the most step taken.\n",
    "* Activity level increases gradually during the day and reaches its first peak at noon, then slowly reclines to its lowest point at 3PM. After that, activity gains recovery to peak again at 6PM, then plummet to its bottom at 3AM. \n",
    "* Sedentary time starts from 11PM and ends at 6AM\n",
    "* We can visualize a typical day of users starting at 6PM, working until 12PM, getting off work at 5PM, then going to sleep at 11PM."
   ]
  },
  {
   "cell_type": "markdown",
   "id": "e7bfcef2",
   "metadata": {
    "papermill": {
     "duration": 0.043479,
     "end_time": "2023-08-08T08:38:49.429194",
     "exception": false,
     "start_time": "2023-08-08T08:38:49.385715",
     "status": "completed"
    },
    "tags": []
   },
   "source": [
    "## 6. ACT PHASE <a id='act-phase'></a>\n",
    "\n",
    "[Back to Table of Contents](#Table-of-Contents)"
   ]
  },
  {
   "cell_type": "markdown",
   "id": "6547b294",
   "metadata": {
    "papermill": {
     "duration": 0.043607,
     "end_time": "2023-08-08T08:38:49.516699",
     "exception": false,
     "start_time": "2023-08-08T08:38:49.473092",
     "status": "completed"
    },
    "tags": []
   },
   "source": [
    "**Marketing recommendations for Bellabeat**\n",
    "\n",
    "*Key takeaways from the analysis*\n",
    "* Sedentary time is highly related to sleep quality. Walking 10,000 step daily can help burn up to 791 Calories.\n",
    "* The amount of exercise is not evenly distributed throughout the week\n",
    "* Exercise intensity is not linearly related with calories burned. Users would benefit most from a combination of 10,000 steps daily and moderate-intensity exercise.\n",
    "\n",
    "-> The key is to keep users *stay motivated* to maintain exercise throughout the week, through which helps them control weight and improve sleep quality\n",
    "\n",
    "***Value Proposition***\n",
    "\n",
    "Help Bellabeat users improve life quality through incremental plan for daily exercises.\n",
    "\n",
    "***Marketing Idea***\n",
    "\n",
    "It's hard to always be motivated for exercise, expecially when users have to deal with daily hassle of work-life balance because exercises take time. Bellabeat can calculate users's daily schedule and detect sedentary time to push notifications for short, moderate exercises (10-20 mins) multiple time during the day. In other to increase motivation, Bellabeat will show users how much calories they burned after each exercise, and give a recap of total calories burned daily together with sleep quality recorded, so that users can see their exercise results. The notifications will be designed with incremental motivation messages and specific goals for users to follow."
   ]
  }
 ],
 "metadata": {
  "kernelspec": {
   "display_name": "Python 3",
   "language": "python",
   "name": "python3"
  },
  "language_info": {
   "codemirror_mode": {
    "name": "ipython",
    "version": 3
   },
   "file_extension": ".py",
   "mimetype": "text/x-python",
   "name": "python",
   "nbconvert_exporter": "python",
   "pygments_lexer": "ipython3",
   "version": "3.10.12"
  },
  "papermill": {
   "default_parameters": {},
   "duration": 28.037936,
   "end_time": "2023-08-08T08:38:50.585142",
   "environment_variables": {},
   "exception": null,
   "input_path": "__notebook__.ipynb",
   "output_path": "__notebook__.ipynb",
   "parameters": {},
   "start_time": "2023-08-08T08:38:22.547206",
   "version": "2.4.0"
  }
 },
 "nbformat": 4,
 "nbformat_minor": 5
}
